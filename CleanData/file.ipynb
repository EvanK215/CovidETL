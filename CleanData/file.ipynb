{
 "cells": [
  {
   "cell_type": "code",
   "execution_count": 64,
   "metadata": {},
   "outputs": [],
   "source": [
    "# Dependencies\n",
    "import pandas as pd"
   ]
  },
  {
   "cell_type": "code",
   "execution_count": 65,
   "metadata": {},
   "outputs": [
    {
     "output_type": "execute_result",
     "data": {
      "text/plain": "   COUNTYFP NEVER RARELY SOMETIMES FREQUENTLY ALWAYS\n0      1001  5.3%   7.4%     13.4%      29.5%  44.4%\n1      1003  8.3%   5.9%      9.8%      32.3%  43.6%\n2      1005  6.7%  12.1%     12.0%      20.1%  49.1%\n3      1007  2.0%   3.4%      9.6%      27.8%  57.2%\n4      1009  5.3%  11.4%     18.0%      19.4%  45.9%",
      "text/html": "<div>\n<style scoped>\n    .dataframe tbody tr th:only-of-type {\n        vertical-align: middle;\n    }\n\n    .dataframe tbody tr th {\n        vertical-align: top;\n    }\n\n    .dataframe thead th {\n        text-align: right;\n    }\n</style>\n<table border=\"1\" class=\"dataframe\">\n  <thead>\n    <tr style=\"text-align: right;\">\n      <th></th>\n      <th>COUNTYFP</th>\n      <th>NEVER</th>\n      <th>RARELY</th>\n      <th>SOMETIMES</th>\n      <th>FREQUENTLY</th>\n      <th>ALWAYS</th>\n    </tr>\n  </thead>\n  <tbody>\n    <tr>\n      <th>0</th>\n      <td>1001</td>\n      <td>5.3%</td>\n      <td>7.4%</td>\n      <td>13.4%</td>\n      <td>29.5%</td>\n      <td>44.4%</td>\n    </tr>\n    <tr>\n      <th>1</th>\n      <td>1003</td>\n      <td>8.3%</td>\n      <td>5.9%</td>\n      <td>9.8%</td>\n      <td>32.3%</td>\n      <td>43.6%</td>\n    </tr>\n    <tr>\n      <th>2</th>\n      <td>1005</td>\n      <td>6.7%</td>\n      <td>12.1%</td>\n      <td>12.0%</td>\n      <td>20.1%</td>\n      <td>49.1%</td>\n    </tr>\n    <tr>\n      <th>3</th>\n      <td>1007</td>\n      <td>2.0%</td>\n      <td>3.4%</td>\n      <td>9.6%</td>\n      <td>27.8%</td>\n      <td>57.2%</td>\n    </tr>\n    <tr>\n      <th>4</th>\n      <td>1009</td>\n      <td>5.3%</td>\n      <td>11.4%</td>\n      <td>18.0%</td>\n      <td>19.4%</td>\n      <td>45.9%</td>\n    </tr>\n  </tbody>\n</table>\n</div>"
     },
     "metadata": {},
     "execution_count": 65
    }
   ],
   "source": [
    "# Load & read in geocodes file\n",
    "data_load = \"../RawData/mask-use-by-county.csv\"\n",
    "mask_data = pd.read_csv(data_load, header=0,  encoding = 'unicode_escape')\n",
    "mask_data.head()"
   ]
  },
  {
   "cell_type": "code",
   "execution_count": 66,
   "metadata": {},
   "outputs": [
    {
     "output_type": "execute_result",
     "data": {
      "text/plain": "   county_fips  state_fips\n0         1001        1000\n1         1003        1000\n2         1005        1000\n3         1007        1000\n4         1009        1000",
      "text/html": "<div>\n<style scoped>\n    .dataframe tbody tr th:only-of-type {\n        vertical-align: middle;\n    }\n\n    .dataframe tbody tr th {\n        vertical-align: top;\n    }\n\n    .dataframe thead th {\n        text-align: right;\n    }\n</style>\n<table border=\"1\" class=\"dataframe\">\n  <thead>\n    <tr style=\"text-align: right;\">\n      <th></th>\n      <th>county_fips</th>\n      <th>state_fips</th>\n    </tr>\n  </thead>\n  <tbody>\n    <tr>\n      <th>0</th>\n      <td>1001</td>\n      <td>1000</td>\n    </tr>\n    <tr>\n      <th>1</th>\n      <td>1003</td>\n      <td>1000</td>\n    </tr>\n    <tr>\n      <th>2</th>\n      <td>1005</td>\n      <td>1000</td>\n    </tr>\n    <tr>\n      <th>3</th>\n      <td>1007</td>\n      <td>1000</td>\n    </tr>\n    <tr>\n      <th>4</th>\n      <td>1009</td>\n      <td>1000</td>\n    </tr>\n  </tbody>\n</table>\n</div>"
     },
     "metadata": {},
     "execution_count": 66
    }
   ],
   "source": [
    "# load and read county_state for state_fips\n",
    "data2_load = \"county_state.csv\"\n",
    "county_state_data = pd.read_csv(data2_load, header=0,  encoding = 'unicode_escape')\n",
    "county_state_data.head()\n"
   ]
  },
  {
   "cell_type": "code",
   "execution_count": 67,
   "metadata": {},
   "outputs": [],
   "source": [
    "# Add state_fips from county_state into dataframe\n",
    "mask_data['state_fips'] = county_state_data['state_fips']\n",
    "\n",
    "# Reanme columns\n",
    "mask_usage = mask_data.rename(columns={'COUNTYFP': 'county_fips', 'NEVER':'never', 'RARELY':'rarely', 'SOMETIMES':'sometimes', 'FREQUENTLY':'frequently', 'ALWAYS': 'always'})\n",
    "\n",
    "# Reorder columns in same order as ERD and set index\n",
    "columns_order = ['county_fips', 'state_fips', 'never', 'rarely', 'sometimes', 'frequently', 'always']\n",
    "mask_usage = mask_usage.reindex(columns=columns_order).set_index('county_fips')\n",
    "\n",
    "# Save file to clean data\n",
    "#mask_usage.to_csv('mask_usage.csv')"
   ]
  },
  {
   "cell_type": "markdown",
   "metadata": {},
   "source": [
    "POPULATION\n"
   ]
  },
  {
   "cell_type": "code",
   "execution_count": 68,
   "metadata": {},
   "outputs": [
    {
     "output_type": "execute_result",
     "data": {
      "text/plain": "                 Unnamed: 0       Census Estimates Base         2010  \\\n0             United States  308,745,538    308,758,105  309,321,666   \n1  .Autauga County, Alabama       54,571         54,597       54,773   \n2  .Baldwin County, Alabama      182,265        182,265      183,112   \n3  .Barbour County, Alabama       27,457         27,455       27,327   \n4     .Bibb County, Alabama       22,915         22,915       22,870   \n\n          2011         2012         2013         2014         2015  \\\n0  311,556,874  313,830,990  315,993,715  318,301,008  320,635,163   \n1       55,227       54,954       54,727       54,893       54,864   \n2      186,558      190,145      194,885      199,183      202,939   \n3       27,341       27,169       26,937       26,755       26,283   \n4       22,745       22,667       22,521       22,553       22,566   \n\n          2016         2017         2018         2019  \n0  322,941,311  324,985,539  326,687,501  328,239,523  \n1       55,243       55,390       55,533       55,869  \n2      207,601      212,521      217,855      223,234  \n3       25,806       25,157       24,872       24,686  \n4       22,586       22,550       22,367       22,394  ",
      "text/html": "<div>\n<style scoped>\n    .dataframe tbody tr th:only-of-type {\n        vertical-align: middle;\n    }\n\n    .dataframe tbody tr th {\n        vertical-align: top;\n    }\n\n    .dataframe thead th {\n        text-align: right;\n    }\n</style>\n<table border=\"1\" class=\"dataframe\">\n  <thead>\n    <tr style=\"text-align: right;\">\n      <th></th>\n      <th>Unnamed: 0</th>\n      <th>Census</th>\n      <th>Estimates Base</th>\n      <th>2010</th>\n      <th>2011</th>\n      <th>2012</th>\n      <th>2013</th>\n      <th>2014</th>\n      <th>2015</th>\n      <th>2016</th>\n      <th>2017</th>\n      <th>2018</th>\n      <th>2019</th>\n    </tr>\n  </thead>\n  <tbody>\n    <tr>\n      <th>0</th>\n      <td>United States</td>\n      <td>308,745,538</td>\n      <td>308,758,105</td>\n      <td>309,321,666</td>\n      <td>311,556,874</td>\n      <td>313,830,990</td>\n      <td>315,993,715</td>\n      <td>318,301,008</td>\n      <td>320,635,163</td>\n      <td>322,941,311</td>\n      <td>324,985,539</td>\n      <td>326,687,501</td>\n      <td>328,239,523</td>\n    </tr>\n    <tr>\n      <th>1</th>\n      <td>.Autauga County, Alabama</td>\n      <td>54,571</td>\n      <td>54,597</td>\n      <td>54,773</td>\n      <td>55,227</td>\n      <td>54,954</td>\n      <td>54,727</td>\n      <td>54,893</td>\n      <td>54,864</td>\n      <td>55,243</td>\n      <td>55,390</td>\n      <td>55,533</td>\n      <td>55,869</td>\n    </tr>\n    <tr>\n      <th>2</th>\n      <td>.Baldwin County, Alabama</td>\n      <td>182,265</td>\n      <td>182,265</td>\n      <td>183,112</td>\n      <td>186,558</td>\n      <td>190,145</td>\n      <td>194,885</td>\n      <td>199,183</td>\n      <td>202,939</td>\n      <td>207,601</td>\n      <td>212,521</td>\n      <td>217,855</td>\n      <td>223,234</td>\n    </tr>\n    <tr>\n      <th>3</th>\n      <td>.Barbour County, Alabama</td>\n      <td>27,457</td>\n      <td>27,455</td>\n      <td>27,327</td>\n      <td>27,341</td>\n      <td>27,169</td>\n      <td>26,937</td>\n      <td>26,755</td>\n      <td>26,283</td>\n      <td>25,806</td>\n      <td>25,157</td>\n      <td>24,872</td>\n      <td>24,686</td>\n    </tr>\n    <tr>\n      <th>4</th>\n      <td>.Bibb County, Alabama</td>\n      <td>22,915</td>\n      <td>22,915</td>\n      <td>22,870</td>\n      <td>22,745</td>\n      <td>22,667</td>\n      <td>22,521</td>\n      <td>22,553</td>\n      <td>22,566</td>\n      <td>22,586</td>\n      <td>22,550</td>\n      <td>22,367</td>\n      <td>22,394</td>\n    </tr>\n  </tbody>\n</table>\n</div>"
     },
     "metadata": {},
     "execution_count": 68
    }
   ],
   "source": [
    "# Load & read in geocodes file\n",
    "data_load = \"../RawData/county_census.csv\"\n",
    "census_data = pd.read_csv(data_load, header=3, encoding = 'unicode_escape')\n",
    "census_data.head()"
   ]
  },
  {
   "cell_type": "code",
   "execution_count": 69,
   "metadata": {},
   "outputs": [
    {
     "output_type": "execute_result",
     "data": {
      "text/plain": "         2019\n1      55,869\n2     223,234\n3      24,686\n4      22,394\n5      57,826\n...       ...\n3138   42,343\n3139   23,464\n3140   20,226\n3141    7,805\n3142    6,927\n\n[3142 rows x 1 columns]",
      "text/html": "<div>\n<style scoped>\n    .dataframe tbody tr th:only-of-type {\n        vertical-align: middle;\n    }\n\n    .dataframe tbody tr th {\n        vertical-align: top;\n    }\n\n    .dataframe thead th {\n        text-align: right;\n    }\n</style>\n<table border=\"1\" class=\"dataframe\">\n  <thead>\n    <tr style=\"text-align: right;\">\n      <th></th>\n      <th>2019</th>\n    </tr>\n  </thead>\n  <tbody>\n    <tr>\n      <th>1</th>\n      <td>55,869</td>\n    </tr>\n    <tr>\n      <th>2</th>\n      <td>223,234</td>\n    </tr>\n    <tr>\n      <th>3</th>\n      <td>24,686</td>\n    </tr>\n    <tr>\n      <th>4</th>\n      <td>22,394</td>\n    </tr>\n    <tr>\n      <th>5</th>\n      <td>57,826</td>\n    </tr>\n    <tr>\n      <th>...</th>\n      <td>...</td>\n    </tr>\n    <tr>\n      <th>3138</th>\n      <td>42,343</td>\n    </tr>\n    <tr>\n      <th>3139</th>\n      <td>23,464</td>\n    </tr>\n    <tr>\n      <th>3140</th>\n      <td>20,226</td>\n    </tr>\n    <tr>\n      <th>3141</th>\n      <td>7,805</td>\n    </tr>\n    <tr>\n      <th>3142</th>\n      <td>6,927</td>\n    </tr>\n  </tbody>\n</table>\n<p>3142 rows × 1 columns</p>\n</div>"
     },
     "metadata": {},
     "execution_count": 69
    }
   ],
   "source": [
    "# Select wanted columns/drop united states totals/drop notes in file \n",
    "census_data = pd.DataFrame(census_data, columns=['2019'])\n",
    "census_data = census_data.drop(census_data.index[3143:3149])\n",
    "census_data = census_data.drop(0)\n",
    "census_data"
   ]
  },
  {
   "cell_type": "code",
   "execution_count": 70,
   "metadata": {},
   "outputs": [],
   "source": [
    "# insert county_fips\n"
   ]
  }
 ],
 "metadata": {
  "language_info": {
   "codemirror_mode": {
    "name": "ipython",
    "version": 3
   },
   "file_extension": ".py",
   "mimetype": "text/x-python",
   "name": "python",
   "nbconvert_exporter": "python",
   "pygments_lexer": "ipython3",
   "version": 3
  },
  "orig_nbformat": 2,
  "kernelspec": {
   "name": "python_defaultSpec_1602966187965",
   "display_name": "Python 3.7.6 64-bit ('anaconda3': virtualenv)"
  }
 },
 "nbformat": 4,
 "nbformat_minor": 2
}