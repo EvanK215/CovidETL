{
 "metadata": {
  "language_info": {
   "codemirror_mode": {
    "name": "ipython",
    "version": 3
   },
   "file_extension": ".py",
   "mimetype": "text/x-python",
   "name": "python",
   "nbconvert_exporter": "python",
   "pygments_lexer": "ipython3",
   "version": "3.6.10-final"
  },
  "orig_nbformat": 2,
  "kernelspec": {
   "name": "python37664bitpythondatacondadbad3b4e249345b1b3c89ad57c4010a7",
   "display_name": "Python 3.7.6 64-bit ('PythonData': conda)"
  }
 },
 "nbformat": 4,
 "nbformat_minor": 2,
 "cells": [
  {
   "cell_type": "code",
   "execution_count": 30,
   "metadata": {},
   "outputs": [],
   "source": [
    "# Dependencies\n",
    "import pandas as pd"
   ]
  },
  {
   "cell_type": "code",
   "execution_count": 31,
   "metadata": {},
   "outputs": [
    {
     "output_type": "execute_result",
     "data": {
      "text/plain": [
       "            date   county       state                 County_Sate    fips  \\\n",
       "0     10/14/2020  Autauga     Alabama     Autauga County, Alabama  1001.0   \n",
       "1     10/14/2020  Baldwin     Alabama     Baldwin County, Alabama  1003.0   \n",
       "2     10/14/2020  Barbour     Alabama     Barbour County, Alabama  1005.0   \n",
       "3     10/14/2020     Bibb     Alabama        Bibb County, Alabama  1007.0   \n",
       "4     10/14/2020   Blount     Alabama      Blount County, Alabama  1009.0   \n",
       "...          ...      ...         ...                         ...     ...   \n",
       "3239  10/14/2020  Unknown   Tennessee   Unknown County, Tennessee     NaN   \n",
       "3240  10/14/2020  Unknown        Utah        Unknown County, Utah     NaN   \n",
       "3241  10/14/2020  Unknown     Vermont     Unknown County, Vermont     NaN   \n",
       "3242  10/14/2020  Unknown  Washington  Unknown County, Washington     NaN   \n",
       "3243  10/14/2020  Unknown   Wisconsin   Unknown County, Wisconsin     NaN   \n",
       "\n",
       "      cases  deaths  confirmed_cases  confirmed_deaths  probable_cases  \\\n",
       "0      1928    28.0           1715.0              27.0           213.0   \n",
       "1      6270    66.0           5400.0              62.0           870.0   \n",
       "2       950     9.0            693.0               9.0           257.0   \n",
       "3       744    13.0            697.0               9.0            47.0   \n",
       "4      1750    23.0           1355.0              23.0           395.0   \n",
       "...     ...     ...              ...               ...             ...   \n",
       "3239    129     0.0             41.0               NaN            88.0   \n",
       "3240    211     1.0             25.0               1.0           186.0   \n",
       "3241      8     0.0              8.0               0.0             NaN   \n",
       "3242      2     2.0              0.0               0.0             2.0   \n",
       "3243      0    11.0              NaN               NaN             NaN   \n",
       "\n",
       "      probable_deaths  \n",
       "0                 1.0  \n",
       "1                 4.0  \n",
       "2                 0.0  \n",
       "3                 4.0  \n",
       "4                 0.0  \n",
       "...               ...  \n",
       "3239              NaN  \n",
       "3240              0.0  \n",
       "3241              NaN  \n",
       "3242              2.0  \n",
       "3243              NaN  \n",
       "\n",
       "[3244 rows x 11 columns]"
      ],
      "text/html": "<div>\n<style scoped>\n    .dataframe tbody tr th:only-of-type {\n        vertical-align: middle;\n    }\n\n    .dataframe tbody tr th {\n        vertical-align: top;\n    }\n\n    .dataframe thead th {\n        text-align: right;\n    }\n</style>\n<table border=\"1\" class=\"dataframe\">\n  <thead>\n    <tr style=\"text-align: right;\">\n      <th></th>\n      <th>date</th>\n      <th>county</th>\n      <th>state</th>\n      <th>County_Sate</th>\n      <th>fips</th>\n      <th>cases</th>\n      <th>deaths</th>\n      <th>confirmed_cases</th>\n      <th>confirmed_deaths</th>\n      <th>probable_cases</th>\n      <th>probable_deaths</th>\n    </tr>\n  </thead>\n  <tbody>\n    <tr>\n      <th>0</th>\n      <td>10/14/2020</td>\n      <td>Autauga</td>\n      <td>Alabama</td>\n      <td>Autauga County, Alabama</td>\n      <td>1001.0</td>\n      <td>1928</td>\n      <td>28.0</td>\n      <td>1715.0</td>\n      <td>27.0</td>\n      <td>213.0</td>\n      <td>1.0</td>\n    </tr>\n    <tr>\n      <th>1</th>\n      <td>10/14/2020</td>\n      <td>Baldwin</td>\n      <td>Alabama</td>\n      <td>Baldwin County, Alabama</td>\n      <td>1003.0</td>\n      <td>6270</td>\n      <td>66.0</td>\n      <td>5400.0</td>\n      <td>62.0</td>\n      <td>870.0</td>\n      <td>4.0</td>\n    </tr>\n    <tr>\n      <th>2</th>\n      <td>10/14/2020</td>\n      <td>Barbour</td>\n      <td>Alabama</td>\n      <td>Barbour County, Alabama</td>\n      <td>1005.0</td>\n      <td>950</td>\n      <td>9.0</td>\n      <td>693.0</td>\n      <td>9.0</td>\n      <td>257.0</td>\n      <td>0.0</td>\n    </tr>\n    <tr>\n      <th>3</th>\n      <td>10/14/2020</td>\n      <td>Bibb</td>\n      <td>Alabama</td>\n      <td>Bibb County, Alabama</td>\n      <td>1007.0</td>\n      <td>744</td>\n      <td>13.0</td>\n      <td>697.0</td>\n      <td>9.0</td>\n      <td>47.0</td>\n      <td>4.0</td>\n    </tr>\n    <tr>\n      <th>4</th>\n      <td>10/14/2020</td>\n      <td>Blount</td>\n      <td>Alabama</td>\n      <td>Blount County, Alabama</td>\n      <td>1009.0</td>\n      <td>1750</td>\n      <td>23.0</td>\n      <td>1355.0</td>\n      <td>23.0</td>\n      <td>395.0</td>\n      <td>0.0</td>\n    </tr>\n    <tr>\n      <th>...</th>\n      <td>...</td>\n      <td>...</td>\n      <td>...</td>\n      <td>...</td>\n      <td>...</td>\n      <td>...</td>\n      <td>...</td>\n      <td>...</td>\n      <td>...</td>\n      <td>...</td>\n      <td>...</td>\n    </tr>\n    <tr>\n      <th>3239</th>\n      <td>10/14/2020</td>\n      <td>Unknown</td>\n      <td>Tennessee</td>\n      <td>Unknown County, Tennessee</td>\n      <td>NaN</td>\n      <td>129</td>\n      <td>0.0</td>\n      <td>41.0</td>\n      <td>NaN</td>\n      <td>88.0</td>\n      <td>NaN</td>\n    </tr>\n    <tr>\n      <th>3240</th>\n      <td>10/14/2020</td>\n      <td>Unknown</td>\n      <td>Utah</td>\n      <td>Unknown County, Utah</td>\n      <td>NaN</td>\n      <td>211</td>\n      <td>1.0</td>\n      <td>25.0</td>\n      <td>1.0</td>\n      <td>186.0</td>\n      <td>0.0</td>\n    </tr>\n    <tr>\n      <th>3241</th>\n      <td>10/14/2020</td>\n      <td>Unknown</td>\n      <td>Vermont</td>\n      <td>Unknown County, Vermont</td>\n      <td>NaN</td>\n      <td>8</td>\n      <td>0.0</td>\n      <td>8.0</td>\n      <td>0.0</td>\n      <td>NaN</td>\n      <td>NaN</td>\n    </tr>\n    <tr>\n      <th>3242</th>\n      <td>10/14/2020</td>\n      <td>Unknown</td>\n      <td>Washington</td>\n      <td>Unknown County, Washington</td>\n      <td>NaN</td>\n      <td>2</td>\n      <td>2.0</td>\n      <td>0.0</td>\n      <td>0.0</td>\n      <td>2.0</td>\n      <td>2.0</td>\n    </tr>\n    <tr>\n      <th>3243</th>\n      <td>10/14/2020</td>\n      <td>Unknown</td>\n      <td>Wisconsin</td>\n      <td>Unknown County, Wisconsin</td>\n      <td>NaN</td>\n      <td>0</td>\n      <td>11.0</td>\n      <td>NaN</td>\n      <td>NaN</td>\n      <td>NaN</td>\n      <td>NaN</td>\n    </tr>\n  </tbody>\n</table>\n<p>3244 rows × 11 columns</p>\n</div>"
     },
     "metadata": {},
     "execution_count": 31
    }
   ],
   "source": [
    "# Load & read in maskusage file\n",
    "data_load = \"../RawData/county_cases.csv\"\n",
    "cases_data = pd.read_csv(data_load,  encoding = 'unicode_escape')\n",
    "cases_data"
   ]
  },
  {
   "cell_type": "code",
   "execution_count": 32,
   "metadata": {},
   "outputs": [
    {
     "output_type": "execute_result",
     "data": {
      "text/plain": [
       "        fips  cases  deaths\n",
       "0     1001.0   1928    28.0\n",
       "1     1003.0   6270    66.0\n",
       "2     1005.0    950     9.0\n",
       "3     1007.0    744    13.0\n",
       "4     1009.0   1750    23.0\n",
       "...      ...    ...     ...\n",
       "3239     NaN    129     0.0\n",
       "3240     NaN    211     1.0\n",
       "3241     NaN      8     0.0\n",
       "3242     NaN      2     2.0\n",
       "3243     NaN      0    11.0\n",
       "\n",
       "[3244 rows x 3 columns]"
      ],
      "text/html": "<div>\n<style scoped>\n    .dataframe tbody tr th:only-of-type {\n        vertical-align: middle;\n    }\n\n    .dataframe tbody tr th {\n        vertical-align: top;\n    }\n\n    .dataframe thead th {\n        text-align: right;\n    }\n</style>\n<table border=\"1\" class=\"dataframe\">\n  <thead>\n    <tr style=\"text-align: right;\">\n      <th></th>\n      <th>fips</th>\n      <th>cases</th>\n      <th>deaths</th>\n    </tr>\n  </thead>\n  <tbody>\n    <tr>\n      <th>0</th>\n      <td>1001.0</td>\n      <td>1928</td>\n      <td>28.0</td>\n    </tr>\n    <tr>\n      <th>1</th>\n      <td>1003.0</td>\n      <td>6270</td>\n      <td>66.0</td>\n    </tr>\n    <tr>\n      <th>2</th>\n      <td>1005.0</td>\n      <td>950</td>\n      <td>9.0</td>\n    </tr>\n    <tr>\n      <th>3</th>\n      <td>1007.0</td>\n      <td>744</td>\n      <td>13.0</td>\n    </tr>\n    <tr>\n      <th>4</th>\n      <td>1009.0</td>\n      <td>1750</td>\n      <td>23.0</td>\n    </tr>\n    <tr>\n      <th>...</th>\n      <td>...</td>\n      <td>...</td>\n      <td>...</td>\n    </tr>\n    <tr>\n      <th>3239</th>\n      <td>NaN</td>\n      <td>129</td>\n      <td>0.0</td>\n    </tr>\n    <tr>\n      <th>3240</th>\n      <td>NaN</td>\n      <td>211</td>\n      <td>1.0</td>\n    </tr>\n    <tr>\n      <th>3241</th>\n      <td>NaN</td>\n      <td>8</td>\n      <td>0.0</td>\n    </tr>\n    <tr>\n      <th>3242</th>\n      <td>NaN</td>\n      <td>2</td>\n      <td>2.0</td>\n    </tr>\n    <tr>\n      <th>3243</th>\n      <td>NaN</td>\n      <td>0</td>\n      <td>11.0</td>\n    </tr>\n  </tbody>\n</table>\n<p>3244 rows × 3 columns</p>\n</div>"
     },
     "metadata": {},
     "execution_count": 32
    }
   ],
   "source": [
    "#select desired columns\n",
    "cases_data = pd.DataFrame(cases_data,columns= ['fips','cases','deaths'])\n",
    "cases_data\n"
   ]
  },
  {
   "cell_type": "code",
   "execution_count": 34,
   "metadata": {},
   "outputs": [
    {
     "output_type": "execute_result",
     "data": {
      "text/plain": [
       "         fips  cases  deaths\n",
       "0      1001.0   1928    28.0\n",
       "1      1003.0   6270    66.0\n",
       "2      1005.0    950     9.0\n",
       "3      1007.0    744    13.0\n",
       "4      1009.0   1750    23.0\n",
       "...       ...    ...     ...\n",
       "3209  72151.0    426     NaN\n",
       "3210  72153.0    461     NaN\n",
       "3211  78010.0    491     6.0\n",
       "3212  78020.0     65     1.0\n",
       "3213  78030.0    772    13.0\n",
       "\n",
       "[3214 rows x 3 columns]"
      ],
      "text/html": "<div>\n<style scoped>\n    .dataframe tbody tr th:only-of-type {\n        vertical-align: middle;\n    }\n\n    .dataframe tbody tr th {\n        vertical-align: top;\n    }\n\n    .dataframe thead th {\n        text-align: right;\n    }\n</style>\n<table border=\"1\" class=\"dataframe\">\n  <thead>\n    <tr style=\"text-align: right;\">\n      <th></th>\n      <th>fips</th>\n      <th>cases</th>\n      <th>deaths</th>\n    </tr>\n  </thead>\n  <tbody>\n    <tr>\n      <th>0</th>\n      <td>1001.0</td>\n      <td>1928</td>\n      <td>28.0</td>\n    </tr>\n    <tr>\n      <th>1</th>\n      <td>1003.0</td>\n      <td>6270</td>\n      <td>66.0</td>\n    </tr>\n    <tr>\n      <th>2</th>\n      <td>1005.0</td>\n      <td>950</td>\n      <td>9.0</td>\n    </tr>\n    <tr>\n      <th>3</th>\n      <td>1007.0</td>\n      <td>744</td>\n      <td>13.0</td>\n    </tr>\n    <tr>\n      <th>4</th>\n      <td>1009.0</td>\n      <td>1750</td>\n      <td>23.0</td>\n    </tr>\n    <tr>\n      <th>...</th>\n      <td>...</td>\n      <td>...</td>\n      <td>...</td>\n    </tr>\n    <tr>\n      <th>3209</th>\n      <td>72151.0</td>\n      <td>426</td>\n      <td>NaN</td>\n    </tr>\n    <tr>\n      <th>3210</th>\n      <td>72153.0</td>\n      <td>461</td>\n      <td>NaN</td>\n    </tr>\n    <tr>\n      <th>3211</th>\n      <td>78010.0</td>\n      <td>491</td>\n      <td>6.0</td>\n    </tr>\n    <tr>\n      <th>3212</th>\n      <td>78020.0</td>\n      <td>65</td>\n      <td>1.0</td>\n    </tr>\n    <tr>\n      <th>3213</th>\n      <td>78030.0</td>\n      <td>772</td>\n      <td>13.0</td>\n    </tr>\n  </tbody>\n</table>\n<p>3214 rows × 3 columns</p>\n</div>"
     },
     "metadata": {},
     "execution_count": 34
    }
   ],
   "source": [
    "cases_data = cases_data.dropna(subset = ['fips'])\n",
    "cases_data"
   ]
  },
  {
   "cell_type": "code",
   "execution_count": 35,
   "metadata": {},
   "outputs": [
    {
     "output_type": "execute_result",
     "data": {
      "text/plain": [
       "         fips  cases  deaths\n",
       "0      1001.0   1928    28.0\n",
       "1      1003.0   6270    66.0\n",
       "2      1005.0    950     9.0\n",
       "3      1007.0    744    13.0\n",
       "4      1009.0   1750    23.0\n",
       "...       ...    ...     ...\n",
       "3126  56037.0    401     2.0\n",
       "3127  56039.0    679     1.0\n",
       "3128  56041.0    384     2.0\n",
       "3129  56043.0    126     7.0\n",
       "3130  56045.0     62     0.0\n",
       "\n",
       "[3131 rows x 3 columns]"
      ],
      "text/html": "<div>\n<style scoped>\n    .dataframe tbody tr th:only-of-type {\n        vertical-align: middle;\n    }\n\n    .dataframe tbody tr th {\n        vertical-align: top;\n    }\n\n    .dataframe thead th {\n        text-align: right;\n    }\n</style>\n<table border=\"1\" class=\"dataframe\">\n  <thead>\n    <tr style=\"text-align: right;\">\n      <th></th>\n      <th>fips</th>\n      <th>cases</th>\n      <th>deaths</th>\n    </tr>\n  </thead>\n  <tbody>\n    <tr>\n      <th>0</th>\n      <td>1001.0</td>\n      <td>1928</td>\n      <td>28.0</td>\n    </tr>\n    <tr>\n      <th>1</th>\n      <td>1003.0</td>\n      <td>6270</td>\n      <td>66.0</td>\n    </tr>\n    <tr>\n      <th>2</th>\n      <td>1005.0</td>\n      <td>950</td>\n      <td>9.0</td>\n    </tr>\n    <tr>\n      <th>3</th>\n      <td>1007.0</td>\n      <td>744</td>\n      <td>13.0</td>\n    </tr>\n    <tr>\n      <th>4</th>\n      <td>1009.0</td>\n      <td>1750</td>\n      <td>23.0</td>\n    </tr>\n    <tr>\n      <th>...</th>\n      <td>...</td>\n      <td>...</td>\n      <td>...</td>\n    </tr>\n    <tr>\n      <th>3126</th>\n      <td>56037.0</td>\n      <td>401</td>\n      <td>2.0</td>\n    </tr>\n    <tr>\n      <th>3127</th>\n      <td>56039.0</td>\n      <td>679</td>\n      <td>1.0</td>\n    </tr>\n    <tr>\n      <th>3128</th>\n      <td>56041.0</td>\n      <td>384</td>\n      <td>2.0</td>\n    </tr>\n    <tr>\n      <th>3129</th>\n      <td>56043.0</td>\n      <td>126</td>\n      <td>7.0</td>\n    </tr>\n    <tr>\n      <th>3130</th>\n      <td>56045.0</td>\n      <td>62</td>\n      <td>0.0</td>\n    </tr>\n  </tbody>\n</table>\n<p>3131 rows × 3 columns</p>\n</div>"
     },
     "metadata": {},
     "execution_count": 35
    }
   ],
   "source": [
    "cases_data = cases_data.loc[cases_data['fips']<57000]\n",
    "cases_data"
   ]
  },
  {
   "cell_type": "code",
   "execution_count": 36,
   "metadata": {},
   "outputs": [
    {
     "output_type": "execute_result",
     "data": {
      "text/plain": [
       "     fips  cases  deaths\n",
       "0  1001.0   1928    28.0\n",
       "1  1003.0   6270    66.0\n",
       "2  1005.0    950     9.0\n",
       "3  1007.0    744    13.0\n",
       "4  1009.0   1750    23.0"
      ],
      "text/html": "<div>\n<style scoped>\n    .dataframe tbody tr th:only-of-type {\n        vertical-align: middle;\n    }\n\n    .dataframe tbody tr th {\n        vertical-align: top;\n    }\n\n    .dataframe thead th {\n        text-align: right;\n    }\n</style>\n<table border=\"1\" class=\"dataframe\">\n  <thead>\n    <tr style=\"text-align: right;\">\n      <th></th>\n      <th>fips</th>\n      <th>cases</th>\n      <th>deaths</th>\n    </tr>\n  </thead>\n  <tbody>\n    <tr>\n      <th>0</th>\n      <td>1001.0</td>\n      <td>1928</td>\n      <td>28.0</td>\n    </tr>\n    <tr>\n      <th>1</th>\n      <td>1003.0</td>\n      <td>6270</td>\n      <td>66.0</td>\n    </tr>\n    <tr>\n      <th>2</th>\n      <td>1005.0</td>\n      <td>950</td>\n      <td>9.0</td>\n    </tr>\n    <tr>\n      <th>3</th>\n      <td>1007.0</td>\n      <td>744</td>\n      <td>13.0</td>\n    </tr>\n    <tr>\n      <th>4</th>\n      <td>1009.0</td>\n      <td>1750</td>\n      <td>23.0</td>\n    </tr>\n  </tbody>\n</table>\n</div>"
     },
     "metadata": {},
     "execution_count": 36
    }
   ],
   "source": [
    "\n",
    "\n",
    "cases_data['fips']=cases_data['fips'].astype(str)\n",
    "cases_data.head()"
   ]
  },
  {
   "cell_type": "code",
   "execution_count": 37,
   "metadata": {},
   "outputs": [
    {
     "output_type": "execute_result",
     "data": {
      "text/plain": [
       "fips       object\n",
       "cases       int64\n",
       "deaths    float64\n",
       "dtype: object"
      ]
     },
     "metadata": {},
     "execution_count": 37
    }
   ],
   "source": [
    "cases_data.dtypes"
   ]
  },
  {
   "cell_type": "code",
   "execution_count": 38,
   "metadata": {},
   "outputs": [
    {
     "output_type": "execute_result",
     "data": {
      "text/plain": [
       "       fips  cases  deaths\n",
       "0      1001   1928    28.0\n",
       "1      1003   6270    66.0\n",
       "2      1005    950     9.0\n",
       "3      1007    744    13.0\n",
       "4      1009   1750    23.0\n",
       "...     ...    ...     ...\n",
       "3126  56037    401     2.0\n",
       "3127  56039    679     1.0\n",
       "3128  56041    384     2.0\n",
       "3129  56043    126     7.0\n",
       "3130  56045     62     0.0\n",
       "\n",
       "[3131 rows x 3 columns]"
      ],
      "text/html": "<div>\n<style scoped>\n    .dataframe tbody tr th:only-of-type {\n        vertical-align: middle;\n    }\n\n    .dataframe tbody tr th {\n        vertical-align: top;\n    }\n\n    .dataframe thead th {\n        text-align: right;\n    }\n</style>\n<table border=\"1\" class=\"dataframe\">\n  <thead>\n    <tr style=\"text-align: right;\">\n      <th></th>\n      <th>fips</th>\n      <th>cases</th>\n      <th>deaths</th>\n    </tr>\n  </thead>\n  <tbody>\n    <tr>\n      <th>0</th>\n      <td>1001</td>\n      <td>1928</td>\n      <td>28.0</td>\n    </tr>\n    <tr>\n      <th>1</th>\n      <td>1003</td>\n      <td>6270</td>\n      <td>66.0</td>\n    </tr>\n    <tr>\n      <th>2</th>\n      <td>1005</td>\n      <td>950</td>\n      <td>9.0</td>\n    </tr>\n    <tr>\n      <th>3</th>\n      <td>1007</td>\n      <td>744</td>\n      <td>13.0</td>\n    </tr>\n    <tr>\n      <th>4</th>\n      <td>1009</td>\n      <td>1750</td>\n      <td>23.0</td>\n    </tr>\n    <tr>\n      <th>...</th>\n      <td>...</td>\n      <td>...</td>\n      <td>...</td>\n    </tr>\n    <tr>\n      <th>3126</th>\n      <td>56037</td>\n      <td>401</td>\n      <td>2.0</td>\n    </tr>\n    <tr>\n      <th>3127</th>\n      <td>56039</td>\n      <td>679</td>\n      <td>1.0</td>\n    </tr>\n    <tr>\n      <th>3128</th>\n      <td>56041</td>\n      <td>384</td>\n      <td>2.0</td>\n    </tr>\n    <tr>\n      <th>3129</th>\n      <td>56043</td>\n      <td>126</td>\n      <td>7.0</td>\n    </tr>\n    <tr>\n      <th>3130</th>\n      <td>56045</td>\n      <td>62</td>\n      <td>0.0</td>\n    </tr>\n  </tbody>\n</table>\n<p>3131 rows × 3 columns</p>\n</div>"
     },
     "metadata": {},
     "execution_count": 38
    }
   ],
   "source": [
    "cases_data['fips']= cases_data['fips'].str[:-2]\n",
    "cases_data"
   ]
  },
  {
   "cell_type": "code",
   "execution_count": 39,
   "metadata": {},
   "outputs": [
    {
     "output_type": "execute_result",
     "data": {
      "text/plain": [
       "             cases  deaths\n",
       "county_fips               \n",
       "1001          1928    28.0\n",
       "1003          6270    66.0\n",
       "1005           950     9.0\n",
       "1007           744    13.0\n",
       "1009          1750    23.0\n",
       "...            ...     ...\n",
       "56037          401     2.0\n",
       "56039          679     1.0\n",
       "56041          384     2.0\n",
       "56043          126     7.0\n",
       "56045           62     0.0\n",
       "\n",
       "[3131 rows x 2 columns]"
      ],
      "text/html": "<div>\n<style scoped>\n    .dataframe tbody tr th:only-of-type {\n        vertical-align: middle;\n    }\n\n    .dataframe tbody tr th {\n        vertical-align: top;\n    }\n\n    .dataframe thead th {\n        text-align: right;\n    }\n</style>\n<table border=\"1\" class=\"dataframe\">\n  <thead>\n    <tr style=\"text-align: right;\">\n      <th></th>\n      <th>cases</th>\n      <th>deaths</th>\n    </tr>\n    <tr>\n      <th>county_fips</th>\n      <th></th>\n      <th></th>\n    </tr>\n  </thead>\n  <tbody>\n    <tr>\n      <th>1001</th>\n      <td>1928</td>\n      <td>28.0</td>\n    </tr>\n    <tr>\n      <th>1003</th>\n      <td>6270</td>\n      <td>66.0</td>\n    </tr>\n    <tr>\n      <th>1005</th>\n      <td>950</td>\n      <td>9.0</td>\n    </tr>\n    <tr>\n      <th>1007</th>\n      <td>744</td>\n      <td>13.0</td>\n    </tr>\n    <tr>\n      <th>1009</th>\n      <td>1750</td>\n      <td>23.0</td>\n    </tr>\n    <tr>\n      <th>...</th>\n      <td>...</td>\n      <td>...</td>\n    </tr>\n    <tr>\n      <th>56037</th>\n      <td>401</td>\n      <td>2.0</td>\n    </tr>\n    <tr>\n      <th>56039</th>\n      <td>679</td>\n      <td>1.0</td>\n    </tr>\n    <tr>\n      <th>56041</th>\n      <td>384</td>\n      <td>2.0</td>\n    </tr>\n    <tr>\n      <th>56043</th>\n      <td>126</td>\n      <td>7.0</td>\n    </tr>\n    <tr>\n      <th>56045</th>\n      <td>62</td>\n      <td>0.0</td>\n    </tr>\n  </tbody>\n</table>\n<p>3131 rows × 2 columns</p>\n</div>"
     },
     "metadata": {},
     "execution_count": 39
    }
   ],
   "source": [
    "cases_data = cases_data.rename(columns= {'fips': 'county_fips'}).set_index('county_fips')\n",
    "cases_data.to_csv('')"
   ]
  },
  {
   "cell_type": "code",
   "execution_count": null,
   "metadata": {},
   "outputs": [],
   "source": []
  }
 ]
}