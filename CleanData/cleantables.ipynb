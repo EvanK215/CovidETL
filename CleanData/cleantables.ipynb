{
 "cells": [
  {
   "cell_type": "code",
   "execution_count": 36,
   "metadata": {},
   "outputs": [],
   "source": [
    "# Dependencies\n",
    "import pandas as pd"
   ]
  },
  {
   "cell_type": "markdown",
   "metadata": {},
   "source": [
    "# cases_death Table CleanUp"
   ]
  },
  {
   "cell_type": "code",
   "execution_count": 38,
   "metadata": {},
   "outputs": [
    {
     "output_type": "execute_result",
     "data": {
      "text/plain": "            date   county       state                 County_Sate    fips  \\\n0     10/14/2020  Autauga     Alabama     Autauga County, Alabama  1001.0   \n1     10/14/2020  Baldwin     Alabama     Baldwin County, Alabama  1003.0   \n2     10/14/2020  Barbour     Alabama     Barbour County, Alabama  1005.0   \n3     10/14/2020     Bibb     Alabama        Bibb County, Alabama  1007.0   \n4     10/14/2020   Blount     Alabama      Blount County, Alabama  1009.0   \n...          ...      ...         ...                         ...     ...   \n3239  10/14/2020  Unknown   Tennessee   Unknown County, Tennessee     NaN   \n3240  10/14/2020  Unknown        Utah        Unknown County, Utah     NaN   \n3241  10/14/2020  Unknown     Vermont     Unknown County, Vermont     NaN   \n3242  10/14/2020  Unknown  Washington  Unknown County, Washington     NaN   \n3243  10/14/2020  Unknown   Wisconsin   Unknown County, Wisconsin     NaN   \n\n      cases  deaths  confirmed_cases  confirmed_deaths  probable_cases  \\\n0      1928    28.0           1715.0              27.0           213.0   \n1      6270    66.0           5400.0              62.0           870.0   \n2       950     9.0            693.0               9.0           257.0   \n3       744    13.0            697.0               9.0            47.0   \n4      1750    23.0           1355.0              23.0           395.0   \n...     ...     ...              ...               ...             ...   \n3239    129     0.0             41.0               NaN            88.0   \n3240    211     1.0             25.0               1.0           186.0   \n3241      8     0.0              8.0               0.0             NaN   \n3242      2     2.0              0.0               0.0             2.0   \n3243      0    11.0              NaN               NaN             NaN   \n\n      probable_deaths  \n0                 1.0  \n1                 4.0  \n2                 0.0  \n3                 4.0  \n4                 0.0  \n...               ...  \n3239              NaN  \n3240              0.0  \n3241              NaN  \n3242              2.0  \n3243              NaN  \n\n[3244 rows x 11 columns]",
      "text/html": "<div>\n<style scoped>\n    .dataframe tbody tr th:only-of-type {\n        vertical-align: middle;\n    }\n\n    .dataframe tbody tr th {\n        vertical-align: top;\n    }\n\n    .dataframe thead th {\n        text-align: right;\n    }\n</style>\n<table border=\"1\" class=\"dataframe\">\n  <thead>\n    <tr style=\"text-align: right;\">\n      <th></th>\n      <th>date</th>\n      <th>county</th>\n      <th>state</th>\n      <th>County_Sate</th>\n      <th>fips</th>\n      <th>cases</th>\n      <th>deaths</th>\n      <th>confirmed_cases</th>\n      <th>confirmed_deaths</th>\n      <th>probable_cases</th>\n      <th>probable_deaths</th>\n    </tr>\n  </thead>\n  <tbody>\n    <tr>\n      <th>0</th>\n      <td>10/14/2020</td>\n      <td>Autauga</td>\n      <td>Alabama</td>\n      <td>Autauga County, Alabama</td>\n      <td>1001.0</td>\n      <td>1928</td>\n      <td>28.0</td>\n      <td>1715.0</td>\n      <td>27.0</td>\n      <td>213.0</td>\n      <td>1.0</td>\n    </tr>\n    <tr>\n      <th>1</th>\n      <td>10/14/2020</td>\n      <td>Baldwin</td>\n      <td>Alabama</td>\n      <td>Baldwin County, Alabama</td>\n      <td>1003.0</td>\n      <td>6270</td>\n      <td>66.0</td>\n      <td>5400.0</td>\n      <td>62.0</td>\n      <td>870.0</td>\n      <td>4.0</td>\n    </tr>\n    <tr>\n      <th>2</th>\n      <td>10/14/2020</td>\n      <td>Barbour</td>\n      <td>Alabama</td>\n      <td>Barbour County, Alabama</td>\n      <td>1005.0</td>\n      <td>950</td>\n      <td>9.0</td>\n      <td>693.0</td>\n      <td>9.0</td>\n      <td>257.0</td>\n      <td>0.0</td>\n    </tr>\n    <tr>\n      <th>3</th>\n      <td>10/14/2020</td>\n      <td>Bibb</td>\n      <td>Alabama</td>\n      <td>Bibb County, Alabama</td>\n      <td>1007.0</td>\n      <td>744</td>\n      <td>13.0</td>\n      <td>697.0</td>\n      <td>9.0</td>\n      <td>47.0</td>\n      <td>4.0</td>\n    </tr>\n    <tr>\n      <th>4</th>\n      <td>10/14/2020</td>\n      <td>Blount</td>\n      <td>Alabama</td>\n      <td>Blount County, Alabama</td>\n      <td>1009.0</td>\n      <td>1750</td>\n      <td>23.0</td>\n      <td>1355.0</td>\n      <td>23.0</td>\n      <td>395.0</td>\n      <td>0.0</td>\n    </tr>\n    <tr>\n      <th>...</th>\n      <td>...</td>\n      <td>...</td>\n      <td>...</td>\n      <td>...</td>\n      <td>...</td>\n      <td>...</td>\n      <td>...</td>\n      <td>...</td>\n      <td>...</td>\n      <td>...</td>\n      <td>...</td>\n    </tr>\n    <tr>\n      <th>3239</th>\n      <td>10/14/2020</td>\n      <td>Unknown</td>\n      <td>Tennessee</td>\n      <td>Unknown County, Tennessee</td>\n      <td>NaN</td>\n      <td>129</td>\n      <td>0.0</td>\n      <td>41.0</td>\n      <td>NaN</td>\n      <td>88.0</td>\n      <td>NaN</td>\n    </tr>\n    <tr>\n      <th>3240</th>\n      <td>10/14/2020</td>\n      <td>Unknown</td>\n      <td>Utah</td>\n      <td>Unknown County, Utah</td>\n      <td>NaN</td>\n      <td>211</td>\n      <td>1.0</td>\n      <td>25.0</td>\n      <td>1.0</td>\n      <td>186.0</td>\n      <td>0.0</td>\n    </tr>\n    <tr>\n      <th>3241</th>\n      <td>10/14/2020</td>\n      <td>Unknown</td>\n      <td>Vermont</td>\n      <td>Unknown County, Vermont</td>\n      <td>NaN</td>\n      <td>8</td>\n      <td>0.0</td>\n      <td>8.0</td>\n      <td>0.0</td>\n      <td>NaN</td>\n      <td>NaN</td>\n    </tr>\n    <tr>\n      <th>3242</th>\n      <td>10/14/2020</td>\n      <td>Unknown</td>\n      <td>Washington</td>\n      <td>Unknown County, Washington</td>\n      <td>NaN</td>\n      <td>2</td>\n      <td>2.0</td>\n      <td>0.0</td>\n      <td>0.0</td>\n      <td>2.0</td>\n      <td>2.0</td>\n    </tr>\n    <tr>\n      <th>3243</th>\n      <td>10/14/2020</td>\n      <td>Unknown</td>\n      <td>Wisconsin</td>\n      <td>Unknown County, Wisconsin</td>\n      <td>NaN</td>\n      <td>0</td>\n      <td>11.0</td>\n      <td>NaN</td>\n      <td>NaN</td>\n      <td>NaN</td>\n      <td>NaN</td>\n    </tr>\n  </tbody>\n</table>\n<p>3244 rows × 11 columns</p>\n</div>"
     },
     "metadata": {},
     "execution_count": 38
    }
   ],
   "source": [
    "# Load & read in maskusage file\n",
    "data_load = \"../RawData/county_cases.csv\"\n",
    "cases_data = pd.read_csv(data_load,  encoding = 'unicode_escape')\n",
    "cases_data"
   ]
  },
  {
   "cell_type": "code",
   "execution_count": 40,
   "metadata": {},
   "outputs": [
    {
     "output_type": "execute_result",
     "data": {
      "text/plain": "        fips  cases  deaths\n0     1001.0   1928    28.0\n1     1003.0   6270    66.0\n2     1005.0    950     9.0\n3     1007.0    744    13.0\n4     1009.0   1750    23.0\n...      ...    ...     ...\n3239     NaN    129     0.0\n3240     NaN    211     1.0\n3241     NaN      8     0.0\n3242     NaN      2     2.0\n3243     NaN      0    11.0\n\n[3244 rows x 3 columns]",
      "text/html": "<div>\n<style scoped>\n    .dataframe tbody tr th:only-of-type {\n        vertical-align: middle;\n    }\n\n    .dataframe tbody tr th {\n        vertical-align: top;\n    }\n\n    .dataframe thead th {\n        text-align: right;\n    }\n</style>\n<table border=\"1\" class=\"dataframe\">\n  <thead>\n    <tr style=\"text-align: right;\">\n      <th></th>\n      <th>fips</th>\n      <th>cases</th>\n      <th>deaths</th>\n    </tr>\n  </thead>\n  <tbody>\n    <tr>\n      <th>0</th>\n      <td>1001.0</td>\n      <td>1928</td>\n      <td>28.0</td>\n    </tr>\n    <tr>\n      <th>1</th>\n      <td>1003.0</td>\n      <td>6270</td>\n      <td>66.0</td>\n    </tr>\n    <tr>\n      <th>2</th>\n      <td>1005.0</td>\n      <td>950</td>\n      <td>9.0</td>\n    </tr>\n    <tr>\n      <th>3</th>\n      <td>1007.0</td>\n      <td>744</td>\n      <td>13.0</td>\n    </tr>\n    <tr>\n      <th>4</th>\n      <td>1009.0</td>\n      <td>1750</td>\n      <td>23.0</td>\n    </tr>\n    <tr>\n      <th>...</th>\n      <td>...</td>\n      <td>...</td>\n      <td>...</td>\n    </tr>\n    <tr>\n      <th>3239</th>\n      <td>NaN</td>\n      <td>129</td>\n      <td>0.0</td>\n    </tr>\n    <tr>\n      <th>3240</th>\n      <td>NaN</td>\n      <td>211</td>\n      <td>1.0</td>\n    </tr>\n    <tr>\n      <th>3241</th>\n      <td>NaN</td>\n      <td>8</td>\n      <td>0.0</td>\n    </tr>\n    <tr>\n      <th>3242</th>\n      <td>NaN</td>\n      <td>2</td>\n      <td>2.0</td>\n    </tr>\n    <tr>\n      <th>3243</th>\n      <td>NaN</td>\n      <td>0</td>\n      <td>11.0</td>\n    </tr>\n  </tbody>\n</table>\n<p>3244 rows × 3 columns</p>\n</div>"
     },
     "metadata": {},
     "execution_count": 40
    }
   ],
   "source": [
    "#select desired columns\n",
    "cases_data = pd.DataFrame(cases_data,columns= ['fips','cases','deaths'])\n",
    "cases_data\n"
   ]
  },
  {
   "cell_type": "code",
   "execution_count": 42,
   "metadata": {},
   "outputs": [
    {
     "output_type": "execute_result",
     "data": {
      "text/plain": "         fips  cases  deaths\n0      1001.0   1928    28.0\n1      1003.0   6270    66.0\n2      1005.0    950     9.0\n3      1007.0    744    13.0\n4      1009.0   1750    23.0\n...       ...    ...     ...\n3209  72151.0    426     NaN\n3210  72153.0    461     NaN\n3211  78010.0    491     6.0\n3212  78020.0     65     1.0\n3213  78030.0    772    13.0\n\n[3214 rows x 3 columns]",
      "text/html": "<div>\n<style scoped>\n    .dataframe tbody tr th:only-of-type {\n        vertical-align: middle;\n    }\n\n    .dataframe tbody tr th {\n        vertical-align: top;\n    }\n\n    .dataframe thead th {\n        text-align: right;\n    }\n</style>\n<table border=\"1\" class=\"dataframe\">\n  <thead>\n    <tr style=\"text-align: right;\">\n      <th></th>\n      <th>fips</th>\n      <th>cases</th>\n      <th>deaths</th>\n    </tr>\n  </thead>\n  <tbody>\n    <tr>\n      <th>0</th>\n      <td>1001.0</td>\n      <td>1928</td>\n      <td>28.0</td>\n    </tr>\n    <tr>\n      <th>1</th>\n      <td>1003.0</td>\n      <td>6270</td>\n      <td>66.0</td>\n    </tr>\n    <tr>\n      <th>2</th>\n      <td>1005.0</td>\n      <td>950</td>\n      <td>9.0</td>\n    </tr>\n    <tr>\n      <th>3</th>\n      <td>1007.0</td>\n      <td>744</td>\n      <td>13.0</td>\n    </tr>\n    <tr>\n      <th>4</th>\n      <td>1009.0</td>\n      <td>1750</td>\n      <td>23.0</td>\n    </tr>\n    <tr>\n      <th>...</th>\n      <td>...</td>\n      <td>...</td>\n      <td>...</td>\n    </tr>\n    <tr>\n      <th>3209</th>\n      <td>72151.0</td>\n      <td>426</td>\n      <td>NaN</td>\n    </tr>\n    <tr>\n      <th>3210</th>\n      <td>72153.0</td>\n      <td>461</td>\n      <td>NaN</td>\n    </tr>\n    <tr>\n      <th>3211</th>\n      <td>78010.0</td>\n      <td>491</td>\n      <td>6.0</td>\n    </tr>\n    <tr>\n      <th>3212</th>\n      <td>78020.0</td>\n      <td>65</td>\n      <td>1.0</td>\n    </tr>\n    <tr>\n      <th>3213</th>\n      <td>78030.0</td>\n      <td>772</td>\n      <td>13.0</td>\n    </tr>\n  </tbody>\n</table>\n<p>3214 rows × 3 columns</p>\n</div>"
     },
     "metadata": {},
     "execution_count": 42
    }
   ],
   "source": [
    "#Remove blank fips from DF\n",
    "cases_data = cases_data.dropna(subset = ['fips'])\n",
    "cases_data"
   ]
  },
  {
   "cell_type": "code",
   "execution_count": 44,
   "metadata": {},
   "outputs": [
    {
     "output_type": "execute_result",
     "data": {
      "text/plain": "         fips  cases  deaths\n0      1001.0   1928    28.0\n1      1003.0   6270    66.0\n2      1005.0    950     9.0\n3      1007.0    744    13.0\n4      1009.0   1750    23.0\n...       ...    ...     ...\n3126  56037.0    401     2.0\n3127  56039.0    679     1.0\n3128  56041.0    384     2.0\n3129  56043.0    126     7.0\n3130  56045.0     62     0.0\n\n[3131 rows x 3 columns]",
      "text/html": "<div>\n<style scoped>\n    .dataframe tbody tr th:only-of-type {\n        vertical-align: middle;\n    }\n\n    .dataframe tbody tr th {\n        vertical-align: top;\n    }\n\n    .dataframe thead th {\n        text-align: right;\n    }\n</style>\n<table border=\"1\" class=\"dataframe\">\n  <thead>\n    <tr style=\"text-align: right;\">\n      <th></th>\n      <th>fips</th>\n      <th>cases</th>\n      <th>deaths</th>\n    </tr>\n  </thead>\n  <tbody>\n    <tr>\n      <th>0</th>\n      <td>1001.0</td>\n      <td>1928</td>\n      <td>28.0</td>\n    </tr>\n    <tr>\n      <th>1</th>\n      <td>1003.0</td>\n      <td>6270</td>\n      <td>66.0</td>\n    </tr>\n    <tr>\n      <th>2</th>\n      <td>1005.0</td>\n      <td>950</td>\n      <td>9.0</td>\n    </tr>\n    <tr>\n      <th>3</th>\n      <td>1007.0</td>\n      <td>744</td>\n      <td>13.0</td>\n    </tr>\n    <tr>\n      <th>4</th>\n      <td>1009.0</td>\n      <td>1750</td>\n      <td>23.0</td>\n    </tr>\n    <tr>\n      <th>...</th>\n      <td>...</td>\n      <td>...</td>\n      <td>...</td>\n    </tr>\n    <tr>\n      <th>3126</th>\n      <td>56037.0</td>\n      <td>401</td>\n      <td>2.0</td>\n    </tr>\n    <tr>\n      <th>3127</th>\n      <td>56039.0</td>\n      <td>679</td>\n      <td>1.0</td>\n    </tr>\n    <tr>\n      <th>3128</th>\n      <td>56041.0</td>\n      <td>384</td>\n      <td>2.0</td>\n    </tr>\n    <tr>\n      <th>3129</th>\n      <td>56043.0</td>\n      <td>126</td>\n      <td>7.0</td>\n    </tr>\n    <tr>\n      <th>3130</th>\n      <td>56045.0</td>\n      <td>62</td>\n      <td>0.0</td>\n    </tr>\n  </tbody>\n</table>\n<p>3131 rows × 3 columns</p>\n</div>"
     },
     "metadata": {},
     "execution_count": 44
    }
   ],
   "source": [
    "#Remove Fips that do not have population data \n",
    "cases_data = cases_data.loc[cases_data['fips']<57000]\n",
    "cases_data"
   ]
  },
  {
   "cell_type": "code",
   "execution_count": 46,
   "metadata": {},
   "outputs": [
    {
     "output_type": "execute_result",
     "data": {
      "text/plain": "     fips  cases  deaths\n0  1001.0   1928    28.0\n1  1003.0   6270    66.0\n2  1005.0    950     9.0\n3  1007.0    744    13.0\n4  1009.0   1750    23.0",
      "text/html": "<div>\n<style scoped>\n    .dataframe tbody tr th:only-of-type {\n        vertical-align: middle;\n    }\n\n    .dataframe tbody tr th {\n        vertical-align: top;\n    }\n\n    .dataframe thead th {\n        text-align: right;\n    }\n</style>\n<table border=\"1\" class=\"dataframe\">\n  <thead>\n    <tr style=\"text-align: right;\">\n      <th></th>\n      <th>fips</th>\n      <th>cases</th>\n      <th>deaths</th>\n    </tr>\n  </thead>\n  <tbody>\n    <tr>\n      <th>0</th>\n      <td>1001.0</td>\n      <td>1928</td>\n      <td>28.0</td>\n    </tr>\n    <tr>\n      <th>1</th>\n      <td>1003.0</td>\n      <td>6270</td>\n      <td>66.0</td>\n    </tr>\n    <tr>\n      <th>2</th>\n      <td>1005.0</td>\n      <td>950</td>\n      <td>9.0</td>\n    </tr>\n    <tr>\n      <th>3</th>\n      <td>1007.0</td>\n      <td>744</td>\n      <td>13.0</td>\n    </tr>\n    <tr>\n      <th>4</th>\n      <td>1009.0</td>\n      <td>1750</td>\n      <td>23.0</td>\n    </tr>\n  </tbody>\n</table>\n</div>"
     },
     "metadata": {},
     "execution_count": 46
    }
   ],
   "source": [
    "#convert fips column to a string \n",
    "cases_data['fips']=cases_data['fips'].astype(str)\n",
    "cases_data.head()"
   ]
  },
  {
   "cell_type": "code",
   "execution_count": 48,
   "metadata": {},
   "outputs": [
    {
     "output_type": "execute_result",
     "data": {
      "text/plain": "fips       object\ncases       int64\ndeaths    float64\ndtype: object"
     },
     "metadata": {},
     "execution_count": 48
    }
   ],
   "source": [
    "cases_data.dtypes"
   ]
  },
  {
   "cell_type": "code",
   "execution_count": 50,
   "metadata": {},
   "outputs": [
    {
     "output_type": "execute_result",
     "data": {
      "text/plain": "       fips  cases  deaths\n0      1001   1928    28.0\n1      1003   6270    66.0\n2      1005    950     9.0\n3      1007    744    13.0\n4      1009   1750    23.0\n...     ...    ...     ...\n3126  56037    401     2.0\n3127  56039    679     1.0\n3128  56041    384     2.0\n3129  56043    126     7.0\n3130  56045     62     0.0\n\n[3131 rows x 3 columns]",
      "text/html": "<div>\n<style scoped>\n    .dataframe tbody tr th:only-of-type {\n        vertical-align: middle;\n    }\n\n    .dataframe tbody tr th {\n        vertical-align: top;\n    }\n\n    .dataframe thead th {\n        text-align: right;\n    }\n</style>\n<table border=\"1\" class=\"dataframe\">\n  <thead>\n    <tr style=\"text-align: right;\">\n      <th></th>\n      <th>fips</th>\n      <th>cases</th>\n      <th>deaths</th>\n    </tr>\n  </thead>\n  <tbody>\n    <tr>\n      <th>0</th>\n      <td>1001</td>\n      <td>1928</td>\n      <td>28.0</td>\n    </tr>\n    <tr>\n      <th>1</th>\n      <td>1003</td>\n      <td>6270</td>\n      <td>66.0</td>\n    </tr>\n    <tr>\n      <th>2</th>\n      <td>1005</td>\n      <td>950</td>\n      <td>9.0</td>\n    </tr>\n    <tr>\n      <th>3</th>\n      <td>1007</td>\n      <td>744</td>\n      <td>13.0</td>\n    </tr>\n    <tr>\n      <th>4</th>\n      <td>1009</td>\n      <td>1750</td>\n      <td>23.0</td>\n    </tr>\n    <tr>\n      <th>...</th>\n      <td>...</td>\n      <td>...</td>\n      <td>...</td>\n    </tr>\n    <tr>\n      <th>3126</th>\n      <td>56037</td>\n      <td>401</td>\n      <td>2.0</td>\n    </tr>\n    <tr>\n      <th>3127</th>\n      <td>56039</td>\n      <td>679</td>\n      <td>1.0</td>\n    </tr>\n    <tr>\n      <th>3128</th>\n      <td>56041</td>\n      <td>384</td>\n      <td>2.0</td>\n    </tr>\n    <tr>\n      <th>3129</th>\n      <td>56043</td>\n      <td>126</td>\n      <td>7.0</td>\n    </tr>\n    <tr>\n      <th>3130</th>\n      <td>56045</td>\n      <td>62</td>\n      <td>0.0</td>\n    </tr>\n  </tbody>\n</table>\n<p>3131 rows × 3 columns</p>\n</div>"
     },
     "metadata": {},
     "execution_count": 50
    }
   ],
   "source": [
    "#Remove extra decimnals from fips string column \n",
    "cases_data['fips']= cases_data['fips'].str[:-2]\n",
    "cases_data"
   ]
  },
  {
   "cell_type": "code",
   "execution_count": 52,
   "metadata": {},
   "outputs": [],
   "source": [
    "#Reanme and create index on DF\n",
    "cases_data = cases_data.rename(columns= {'fips': 'county_fips'}).set_index('county_fips')\n"
   ]
  },
  {
   "cell_type": "code",
   "execution_count": 54,
   "metadata": {},
   "outputs": [
    {
     "output_type": "execute_result",
     "data": {
      "text/plain": "   county_fips  state_fips\n0         1001        1000\n1         1003        1000\n2         1005        1000\n3         1007        1000\n4         1009        1000",
      "text/html": "<div>\n<style scoped>\n    .dataframe tbody tr th:only-of-type {\n        vertical-align: middle;\n    }\n\n    .dataframe tbody tr th {\n        vertical-align: top;\n    }\n\n    .dataframe thead th {\n        text-align: right;\n    }\n</style>\n<table border=\"1\" class=\"dataframe\">\n  <thead>\n    <tr style=\"text-align: right;\">\n      <th></th>\n      <th>county_fips</th>\n      <th>state_fips</th>\n    </tr>\n  </thead>\n  <tbody>\n    <tr>\n      <th>0</th>\n      <td>1001</td>\n      <td>1000</td>\n    </tr>\n    <tr>\n      <th>1</th>\n      <td>1003</td>\n      <td>1000</td>\n    </tr>\n    <tr>\n      <th>2</th>\n      <td>1005</td>\n      <td>1000</td>\n    </tr>\n    <tr>\n      <th>3</th>\n      <td>1007</td>\n      <td>1000</td>\n    </tr>\n    <tr>\n      <th>4</th>\n      <td>1009</td>\n      <td>1000</td>\n    </tr>\n  </tbody>\n</table>\n</div>"
     },
     "metadata": {},
     "execution_count": 54
    }
   ],
   "source": [
    "# load and read county_state for state_fips\n",
    "data2_load = \"county_state.csv\"\n",
    "county_state_data = pd.read_csv(data2_load, header=0,  encoding = 'unicode_escape')\n",
    "county_state_data.head()"
   ]
  },
  {
   "cell_type": "code",
   "execution_count": 56,
   "metadata": {
    "tags": []
   },
   "outputs": [
    {
     "output_type": "stream",
     "name": "stdout",
     "text": "county_fips    object\nstate_fips      int64\ndtype: object\ncases       int64\ndeaths    float64\ndtype: object\n"
    }
   ],
   "source": [
    "#convert county fips from int to str\n",
    "county_state_data['county_fips']= county_state_data['county_fips'].astype(str)\n",
    "print(county_state_data.dtypes)\n",
    "print(cases_data.dtypes)"
   ]
  },
  {
   "cell_type": "code",
   "execution_count": 58,
   "metadata": {},
   "outputs": [
    {
     "output_type": "execute_result",
     "data": {
      "text/plain": "             state_fips  cases  deaths\ncounty_fips                           \n1001               1000   1928    28.0\n1003               1000   6270    66.0\n1005               1000    950     9.0\n1007               1000    744    13.0\n1009               1000   1750    23.0\n...                 ...    ...     ...\n56037             56000    401     2.0\n56039             56000    679     1.0\n56041             56000    384     2.0\n56043             56000    126     7.0\n56045             56000     62     0.0\n\n[3131 rows x 3 columns]",
      "text/html": "<div>\n<style scoped>\n    .dataframe tbody tr th:only-of-type {\n        vertical-align: middle;\n    }\n\n    .dataframe tbody tr th {\n        vertical-align: top;\n    }\n\n    .dataframe thead th {\n        text-align: right;\n    }\n</style>\n<table border=\"1\" class=\"dataframe\">\n  <thead>\n    <tr style=\"text-align: right;\">\n      <th></th>\n      <th>state_fips</th>\n      <th>cases</th>\n      <th>deaths</th>\n    </tr>\n    <tr>\n      <th>county_fips</th>\n      <th></th>\n      <th></th>\n      <th></th>\n    </tr>\n  </thead>\n  <tbody>\n    <tr>\n      <th>1001</th>\n      <td>1000</td>\n      <td>1928</td>\n      <td>28.0</td>\n    </tr>\n    <tr>\n      <th>1003</th>\n      <td>1000</td>\n      <td>6270</td>\n      <td>66.0</td>\n    </tr>\n    <tr>\n      <th>1005</th>\n      <td>1000</td>\n      <td>950</td>\n      <td>9.0</td>\n    </tr>\n    <tr>\n      <th>1007</th>\n      <td>1000</td>\n      <td>744</td>\n      <td>13.0</td>\n    </tr>\n    <tr>\n      <th>1009</th>\n      <td>1000</td>\n      <td>1750</td>\n      <td>23.0</td>\n    </tr>\n    <tr>\n      <th>...</th>\n      <td>...</td>\n      <td>...</td>\n      <td>...</td>\n    </tr>\n    <tr>\n      <th>56037</th>\n      <td>56000</td>\n      <td>401</td>\n      <td>2.0</td>\n    </tr>\n    <tr>\n      <th>56039</th>\n      <td>56000</td>\n      <td>679</td>\n      <td>1.0</td>\n    </tr>\n    <tr>\n      <th>56041</th>\n      <td>56000</td>\n      <td>384</td>\n      <td>2.0</td>\n    </tr>\n    <tr>\n      <th>56043</th>\n      <td>56000</td>\n      <td>126</td>\n      <td>7.0</td>\n    </tr>\n    <tr>\n      <th>56045</th>\n      <td>56000</td>\n      <td>62</td>\n      <td>0.0</td>\n    </tr>\n  </tbody>\n</table>\n<p>3131 rows × 3 columns</p>\n</div>"
     },
     "metadata": {},
     "execution_count": 58
    }
   ],
   "source": [
    "# Merge state fips into cases_data DF \n",
    "cases_data= pd.merge(cases_data, county_state_data, how= 'left', on= 'county_fips')\n",
    "# Reorder columns in same order as ERD and set index\n",
    "columns_order = ['county_fips', 'state_fips', 'cases', 'deaths']\n",
    "cases_data = cases_data.reindex(columns=columns_order).set_index('county_fips')\n",
    "cases_data"
   ]
  },
  {
   "cell_type": "code",
   "execution_count": 59,
   "metadata": {},
   "outputs": [],
   "source": [
    "#save DF to csv \n",
    "cases_data.to_csv('cases_death.csv')"
   ]
  },
  {
   "cell_type": "markdown",
   "metadata": {},
   "source": [
    "# mask_usage Table CleanUp"
   ]
  },
  {
   "cell_type": "code",
   "execution_count": 60,
   "metadata": {},
   "outputs": [
    {
     "output_type": "execute_result",
     "data": {
      "text/plain": "   COUNTYFP NEVER RARELY SOMETIMES FREQUENTLY ALWAYS\n0      1001  5.3%   7.4%     13.4%      29.5%  44.4%\n1      1003  8.3%   5.9%      9.8%      32.3%  43.6%\n2      1005  6.7%  12.1%     12.0%      20.1%  49.1%\n3      1007  2.0%   3.4%      9.6%      27.8%  57.2%\n4      1009  5.3%  11.4%     18.0%      19.4%  45.9%",
      "text/html": "<div>\n<style scoped>\n    .dataframe tbody tr th:only-of-type {\n        vertical-align: middle;\n    }\n\n    .dataframe tbody tr th {\n        vertical-align: top;\n    }\n\n    .dataframe thead th {\n        text-align: right;\n    }\n</style>\n<table border=\"1\" class=\"dataframe\">\n  <thead>\n    <tr style=\"text-align: right;\">\n      <th></th>\n      <th>COUNTYFP</th>\n      <th>NEVER</th>\n      <th>RARELY</th>\n      <th>SOMETIMES</th>\n      <th>FREQUENTLY</th>\n      <th>ALWAYS</th>\n    </tr>\n  </thead>\n  <tbody>\n    <tr>\n      <th>0</th>\n      <td>1001</td>\n      <td>5.3%</td>\n      <td>7.4%</td>\n      <td>13.4%</td>\n      <td>29.5%</td>\n      <td>44.4%</td>\n    </tr>\n    <tr>\n      <th>1</th>\n      <td>1003</td>\n      <td>8.3%</td>\n      <td>5.9%</td>\n      <td>9.8%</td>\n      <td>32.3%</td>\n      <td>43.6%</td>\n    </tr>\n    <tr>\n      <th>2</th>\n      <td>1005</td>\n      <td>6.7%</td>\n      <td>12.1%</td>\n      <td>12.0%</td>\n      <td>20.1%</td>\n      <td>49.1%</td>\n    </tr>\n    <tr>\n      <th>3</th>\n      <td>1007</td>\n      <td>2.0%</td>\n      <td>3.4%</td>\n      <td>9.6%</td>\n      <td>27.8%</td>\n      <td>57.2%</td>\n    </tr>\n    <tr>\n      <th>4</th>\n      <td>1009</td>\n      <td>5.3%</td>\n      <td>11.4%</td>\n      <td>18.0%</td>\n      <td>19.4%</td>\n      <td>45.9%</td>\n    </tr>\n  </tbody>\n</table>\n</div>"
     },
     "metadata": {},
     "execution_count": 60
    }
   ],
   "source": [
    "# Load & read in geocodes file\n",
    "data_load = \"../RawData/mask-use-by-county.csv\"\n",
    "mask_data = pd.read_csv(data_load, header=0,  encoding = 'unicode_escape')\n",
    "mask_data.head()"
   ]
  },
  {
   "cell_type": "code",
   "execution_count": 61,
   "metadata": {},
   "outputs": [],
   "source": [
    "# Add state_fips from county_state into dataframe\n",
    "mask_data['state_fips'] = county_state_data['state_fips']\n",
    "\n",
    "# Reanme columns\n",
    "mask_usage = mask_data.rename(columns={'COUNTYFP': 'county_fips', 'NEVER':'never', 'RARELY':'rarely', 'SOMETIMES':'sometimes', 'FREQUENTLY':'frequently', 'ALWAYS': 'always'})\n",
    "\n",
    "# Reorder columns in same order as ERD and set index\n",
    "columns_order = ['county_fips', 'state_fips', 'never', 'rarely', 'sometimes', 'frequently', 'always']\n",
    "mask_usage = mask_usage.reindex(columns=columns_order).set_index('county_fips')\n",
    "\n",
    "# Save file to clean data\n",
    "mask_usage.to_csv('mask_usage.csv')"
   ]
  },
  {
   "cell_type": "markdown",
   "metadata": {},
   "source": [
    "# population tabel CleanUp"
   ]
  },
  {
   "cell_type": "code",
   "execution_count": 62,
   "metadata": {},
   "outputs": [
    {
     "output_type": "execute_result",
     "data": {
      "text/plain": "                 Unnamed: 0       Census Estimates Base         2010  \\\n0             United States  308,745,538    308,758,105  309,321,666   \n1  .Autauga County, Alabama       54,571         54,597       54,773   \n2  .Baldwin County, Alabama      182,265        182,265      183,112   \n3  .Barbour County, Alabama       27,457         27,455       27,327   \n4     .Bibb County, Alabama       22,915         22,915       22,870   \n\n          2011         2012         2013         2014         2015  \\\n0  311,556,874  313,830,990  315,993,715  318,301,008  320,635,163   \n1       55,227       54,954       54,727       54,893       54,864   \n2      186,558      190,145      194,885      199,183      202,939   \n3       27,341       27,169       26,937       26,755       26,283   \n4       22,745       22,667       22,521       22,553       22,566   \n\n          2016         2017         2018         2019  \n0  322,941,311  324,985,539  326,687,501  328,239,523  \n1       55,243       55,390       55,533       55,869  \n2      207,601      212,521      217,855      223,234  \n3       25,806       25,157       24,872       24,686  \n4       22,586       22,550       22,367       22,394  ",
      "text/html": "<div>\n<style scoped>\n    .dataframe tbody tr th:only-of-type {\n        vertical-align: middle;\n    }\n\n    .dataframe tbody tr th {\n        vertical-align: top;\n    }\n\n    .dataframe thead th {\n        text-align: right;\n    }\n</style>\n<table border=\"1\" class=\"dataframe\">\n  <thead>\n    <tr style=\"text-align: right;\">\n      <th></th>\n      <th>Unnamed: 0</th>\n      <th>Census</th>\n      <th>Estimates Base</th>\n      <th>2010</th>\n      <th>2011</th>\n      <th>2012</th>\n      <th>2013</th>\n      <th>2014</th>\n      <th>2015</th>\n      <th>2016</th>\n      <th>2017</th>\n      <th>2018</th>\n      <th>2019</th>\n    </tr>\n  </thead>\n  <tbody>\n    <tr>\n      <th>0</th>\n      <td>United States</td>\n      <td>308,745,538</td>\n      <td>308,758,105</td>\n      <td>309,321,666</td>\n      <td>311,556,874</td>\n      <td>313,830,990</td>\n      <td>315,993,715</td>\n      <td>318,301,008</td>\n      <td>320,635,163</td>\n      <td>322,941,311</td>\n      <td>324,985,539</td>\n      <td>326,687,501</td>\n      <td>328,239,523</td>\n    </tr>\n    <tr>\n      <th>1</th>\n      <td>.Autauga County, Alabama</td>\n      <td>54,571</td>\n      <td>54,597</td>\n      <td>54,773</td>\n      <td>55,227</td>\n      <td>54,954</td>\n      <td>54,727</td>\n      <td>54,893</td>\n      <td>54,864</td>\n      <td>55,243</td>\n      <td>55,390</td>\n      <td>55,533</td>\n      <td>55,869</td>\n    </tr>\n    <tr>\n      <th>2</th>\n      <td>.Baldwin County, Alabama</td>\n      <td>182,265</td>\n      <td>182,265</td>\n      <td>183,112</td>\n      <td>186,558</td>\n      <td>190,145</td>\n      <td>194,885</td>\n      <td>199,183</td>\n      <td>202,939</td>\n      <td>207,601</td>\n      <td>212,521</td>\n      <td>217,855</td>\n      <td>223,234</td>\n    </tr>\n    <tr>\n      <th>3</th>\n      <td>.Barbour County, Alabama</td>\n      <td>27,457</td>\n      <td>27,455</td>\n      <td>27,327</td>\n      <td>27,341</td>\n      <td>27,169</td>\n      <td>26,937</td>\n      <td>26,755</td>\n      <td>26,283</td>\n      <td>25,806</td>\n      <td>25,157</td>\n      <td>24,872</td>\n      <td>24,686</td>\n    </tr>\n    <tr>\n      <th>4</th>\n      <td>.Bibb County, Alabama</td>\n      <td>22,915</td>\n      <td>22,915</td>\n      <td>22,870</td>\n      <td>22,745</td>\n      <td>22,667</td>\n      <td>22,521</td>\n      <td>22,553</td>\n      <td>22,566</td>\n      <td>22,586</td>\n      <td>22,550</td>\n      <td>22,367</td>\n      <td>22,394</td>\n    </tr>\n  </tbody>\n</table>\n</div>"
     },
     "metadata": {},
     "execution_count": 62
    }
   ],
   "source": [
    "# Load & read in geocodes file\n",
    "data_load = \"../RawData/county_census.csv\"\n",
    "census_data = pd.read_csv(data_load, header=3, encoding = 'unicode_escape')\n",
    "census_data.head()"
   ]
  },
  {
   "cell_type": "code",
   "execution_count": 63,
   "metadata": {},
   "outputs": [],
   "source": [
    "# Select wanted columns/drop united states totals/drop notes in file \n",
    "population = pd.DataFrame(census_data, columns=['2019'])\n",
    "population = population.drop(population.index[3143:3149])\n",
    "population = population.drop(0)\n",
    "population.reset_index(drop=True, inplace=True)"
   ]
  },
  {
   "cell_type": "code",
   "execution_count": 64,
   "metadata": {},
   "outputs": [
    {
     "output_type": "execute_result",
     "data": {
      "text/plain": "      2019  state_fips county_fips\n0   55,869        1000        1001\n1  223,234        1000        1003\n2   24,686        1000        1005\n3   22,394        1000        1007\n4   57,826        1000        1009",
      "text/html": "<div>\n<style scoped>\n    .dataframe tbody tr th:only-of-type {\n        vertical-align: middle;\n    }\n\n    .dataframe tbody tr th {\n        vertical-align: top;\n    }\n\n    .dataframe thead th {\n        text-align: right;\n    }\n</style>\n<table border=\"1\" class=\"dataframe\">\n  <thead>\n    <tr style=\"text-align: right;\">\n      <th></th>\n      <th>2019</th>\n      <th>state_fips</th>\n      <th>county_fips</th>\n    </tr>\n  </thead>\n  <tbody>\n    <tr>\n      <th>0</th>\n      <td>55,869</td>\n      <td>1000</td>\n      <td>1001</td>\n    </tr>\n    <tr>\n      <th>1</th>\n      <td>223,234</td>\n      <td>1000</td>\n      <td>1003</td>\n    </tr>\n    <tr>\n      <th>2</th>\n      <td>24,686</td>\n      <td>1000</td>\n      <td>1005</td>\n    </tr>\n    <tr>\n      <th>3</th>\n      <td>22,394</td>\n      <td>1000</td>\n      <td>1007</td>\n    </tr>\n    <tr>\n      <th>4</th>\n      <td>57,826</td>\n      <td>1000</td>\n      <td>1009</td>\n    </tr>\n  </tbody>\n</table>\n</div>"
     },
     "metadata": {},
     "execution_count": 64
    }
   ],
   "source": [
    "# insert county_fips and state_fips\n",
    "population['state_fips'] = county_state_data['state_fips']\n",
    "population['county_fips'] = county_state_data['county_fips']\n",
    "population.head()"
   ]
  },
  {
   "cell_type": "code",
   "execution_count": 65,
   "metadata": {},
   "outputs": [
    {
     "output_type": "execute_result",
     "data": {
      "text/plain": "             state_fips 2019_population\ncounty_fips                            \n1001               1000          55,869\n1003               1000         223,234\n1005               1000          24,686\n1007               1000          22,394\n1009               1000          57,826",
      "text/html": "<div>\n<style scoped>\n    .dataframe tbody tr th:only-of-type {\n        vertical-align: middle;\n    }\n\n    .dataframe tbody tr th {\n        vertical-align: top;\n    }\n\n    .dataframe thead th {\n        text-align: right;\n    }\n</style>\n<table border=\"1\" class=\"dataframe\">\n  <thead>\n    <tr style=\"text-align: right;\">\n      <th></th>\n      <th>state_fips</th>\n      <th>2019_population</th>\n    </tr>\n    <tr>\n      <th>county_fips</th>\n      <th></th>\n      <th></th>\n    </tr>\n  </thead>\n  <tbody>\n    <tr>\n      <th>1001</th>\n      <td>1000</td>\n      <td>55,869</td>\n    </tr>\n    <tr>\n      <th>1003</th>\n      <td>1000</td>\n      <td>223,234</td>\n    </tr>\n    <tr>\n      <th>1005</th>\n      <td>1000</td>\n      <td>24,686</td>\n    </tr>\n    <tr>\n      <th>1007</th>\n      <td>1000</td>\n      <td>22,394</td>\n    </tr>\n    <tr>\n      <th>1009</th>\n      <td>1000</td>\n      <td>57,826</td>\n    </tr>\n  </tbody>\n</table>\n</div>"
     },
     "metadata": {},
     "execution_count": 65
    }
   ],
   "source": [
    "# Reorder columns in same order as ERD and set index\n",
    "columns_order = ['county_fips', 'state_fips', '2019']\n",
    "population = population.reindex(columns=columns_order).set_index('county_fips')\n",
    "\n",
    "# Rename population column\n",
    "population = population.rename(columns={'2019': '2019_population'})\n",
    "\n",
    "# save population to csv\n",
    "population.to_csv('population.csv')\n",
    "population.head()"
   ]
  },
  {
   "cell_type": "markdown",
   "metadata": {},
   "source": [
    "# Dataframe to postgres"
   ]
  },
  {
   "cell_type": "code",
   "execution_count": 66,
   "metadata": {},
   "outputs": [],
   "source": [
    "# import dependencies\n",
    "from sqlalchemy import create_engine\n",
    "import psycopg2\n",
    "import pandas as pd\n",
    "from passwords import password"
   ]
  },
  {
   "cell_type": "markdown",
   "metadata": {},
   "source": [
    "## Cases_death table"
   ]
  },
  {
   "cell_type": "code",
   "execution_count": 67,
   "metadata": {
    "tags": []
   },
   "outputs": [
    {
     "output_type": "stream",
     "name": "stdout",
     "text": "Table 'cases_death' already exists.\n"
    }
   ],
   "source": [
    "# Create an engine instance\n",
    "alchemyEngine   = create_engine('postgresql+psycopg2://postgres:' + password + '@cwru-bootcamp6.cbgqvzvry5u3.us-east-2.rds.amazonaws.com/postgres', pool_recycle=3600)\n",
    "\n",
    "# Connect to PostgreSQL server\n",
    "postgreSQLConnection = alchemyEngine.connect()\n",
    "postgreSQLTable = \"cases_death\"\n",
    "\n",
    "try:\n",
    "\n",
    "    frame = cases_data.to_sql(postgreSQLTable, postgreSQLConnection, if_exists='fail')\n",
    "\n",
    "except ValueError as vx:\n",
    "\n",
    "    print(vx)\n",
    "\n",
    "except Exception as ex:  \n",
    "\n",
    "    print(ex)\n",
    "\n",
    "else:\n",
    "\n",
    "    print(\"PostgreSQL Table %s has been created successfully.\"%postgreSQLTable)\n",
    "\n",
    "finally:\n",
    "\n",
    "    postgreSQLConnection.close()"
   ]
  },
  {
   "cell_type": "markdown",
   "metadata": {},
   "source": [
    "## Mask_usage table"
   ]
  },
  {
   "cell_type": "code",
   "execution_count": 68,
   "metadata": {
    "tags": []
   },
   "outputs": [
    {
     "output_type": "stream",
     "name": "stdout",
     "text": "Table 'mask_usage' already exists.\n"
    }
   ],
   "source": [
    "# Create an engine instance\n",
    "alchemyEngine   = create_engine('postgresql+psycopg2://postgres:' + password + '@cwru-bootcamp6.cbgqvzvry5u3.us-east-2.rds.amazonaws.com/postgres', pool_recycle=3600)\n",
    "\n",
    "# Connect to PostgreSQL server\n",
    "postgreSQLConnection = alchemyEngine.connect()\n",
    "postgreSQLTable = \"mask_usage\"\n",
    "\n",
    "try:\n",
    "\n",
    "    frame = mask_usage.to_sql(postgreSQLTable, postgreSQLConnection, if_exists='fail')\n",
    "\n",
    "except ValueError as vx:\n",
    "\n",
    "    print(vx)\n",
    "\n",
    "except Exception as ex:  \n",
    "\n",
    "    print(ex)\n",
    "\n",
    "else:\n",
    "\n",
    "    print(\"PostgreSQL Table %s has been created successfully.\"%postgreSQLTable)\n",
    "\n",
    "finally:\n",
    "\n",
    "    postgreSQLConnection.close()"
   ]
  },
  {
   "cell_type": "markdown",
   "metadata": {},
   "source": [
    "## Population table"
   ]
  },
  {
   "cell_type": "code",
   "execution_count": 69,
   "metadata": {
    "tags": []
   },
   "outputs": [
    {
     "output_type": "stream",
     "name": "stdout",
     "text": "Table 'population' already exists.\n"
    }
   ],
   "source": [
    "# Create an engine instance\n",
    "alchemyEngine   = create_engine('postgresql+psycopg2://postgres:' + password + '@cwru-bootcamp6.cbgqvzvry5u3.us-east-2.rds.amazonaws.com/postgres', pool_recycle=3600)\n",
    "\n",
    "# Connect to PostgreSQL server\n",
    "postgreSQLConnection = alchemyEngine.connect()\n",
    "postgreSQLTable = \"population\"\n",
    "\n",
    "try:\n",
    "\n",
    "    frame = population.to_sql(postgreSQLTable, postgreSQLConnection, if_exists='fail')\n",
    "\n",
    "except ValueError as vx:\n",
    "\n",
    "    print(vx)\n",
    "\n",
    "except Exception as ex:  \n",
    "\n",
    "    print(ex)\n",
    "\n",
    "else:\n",
    "\n",
    "    print(\"PostgreSQL Table %s has been created successfully.\"%postgreSQLTable)\n",
    "\n",
    "finally:\n",
    "\n",
    "    postgreSQLConnection.close()"
   ]
  }
 ],
 "metadata": {
  "language_info": {
   "codemirror_mode": {
    "name": "ipython",
    "version": 3
   },
   "file_extension": ".py",
   "mimetype": "text/x-python",
   "name": "python",
   "nbconvert_exporter": "python",
   "pygments_lexer": "ipython3",
   "version": "3.6.10-final"
  },
  "orig_nbformat": 2,
  "kernelspec": {
   "name": "python361064bitpythondataconda68f0f4eaa1d646f2a03166172983c52b",
   "display_name": "Python 3.6.10 64-bit ('PythonData': conda)"
  }
 },
 "nbformat": 4,
 "nbformat_minor": 2
}