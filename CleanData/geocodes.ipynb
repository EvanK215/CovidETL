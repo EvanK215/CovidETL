{
 "cells": [
  {
   "cell_type": "code",
   "execution_count": 66,
   "metadata": {},
   "outputs": [],
   "source": [
    "# Dependencies\n",
    "import pandas as pd"
   ]
  },
  {
   "cell_type": "code",
   "execution_count": 67,
   "metadata": {},
   "outputs": [
    {
     "output_type": "execute_result",
     "data": {
      "text/plain": "   Summary Level  State Code (FIPS) County Code (FIPS)  \\\n0             10                  0               '000   \n1             40                  1               '000   \n2             50                  1               '001   \n3             50                  1               '003   \n4             50                  1               '005   \n\n   County Subdivision Code (FIPS)  Place Code (FIPS)  \\\n0                               0                  0   \n1                               0                  0   \n2                               0                  0   \n3                               0                  0   \n4                               0                  0   \n\n   Consolidtated City Code (FIPS)  \\\n0                               0   \n1                               0   \n2                               0   \n3                               0   \n4                               0   \n\n  Area Name (including legal/statistical area description)  \n0                                      United States        \n1                                            Alabama        \n2                                     Autauga County        \n3                                     Baldwin County        \n4                                     Barbour County        ",
      "text/html": "<div>\n<style scoped>\n    .dataframe tbody tr th:only-of-type {\n        vertical-align: middle;\n    }\n\n    .dataframe tbody tr th {\n        vertical-align: top;\n    }\n\n    .dataframe thead th {\n        text-align: right;\n    }\n</style>\n<table border=\"1\" class=\"dataframe\">\n  <thead>\n    <tr style=\"text-align: right;\">\n      <th></th>\n      <th>Summary Level</th>\n      <th>State Code (FIPS)</th>\n      <th>County Code (FIPS)</th>\n      <th>County Subdivision Code (FIPS)</th>\n      <th>Place Code (FIPS)</th>\n      <th>Consolidtated City Code (FIPS)</th>\n      <th>Area Name (including legal/statistical area description)</th>\n    </tr>\n  </thead>\n  <tbody>\n    <tr>\n      <th>0</th>\n      <td>10</td>\n      <td>0</td>\n      <td>'000</td>\n      <td>0</td>\n      <td>0</td>\n      <td>0</td>\n      <td>United States</td>\n    </tr>\n    <tr>\n      <th>1</th>\n      <td>40</td>\n      <td>1</td>\n      <td>'000</td>\n      <td>0</td>\n      <td>0</td>\n      <td>0</td>\n      <td>Alabama</td>\n    </tr>\n    <tr>\n      <th>2</th>\n      <td>50</td>\n      <td>1</td>\n      <td>'001</td>\n      <td>0</td>\n      <td>0</td>\n      <td>0</td>\n      <td>Autauga County</td>\n    </tr>\n    <tr>\n      <th>3</th>\n      <td>50</td>\n      <td>1</td>\n      <td>'003</td>\n      <td>0</td>\n      <td>0</td>\n      <td>0</td>\n      <td>Baldwin County</td>\n    </tr>\n    <tr>\n      <th>4</th>\n      <td>50</td>\n      <td>1</td>\n      <td>'005</td>\n      <td>0</td>\n      <td>0</td>\n      <td>0</td>\n      <td>Barbour County</td>\n    </tr>\n  </tbody>\n</table>\n</div>"
     },
     "metadata": {},
     "execution_count": 67
    }
   ],
   "source": [
    "# Load & read in geocodes file\n",
    "data_load = \"../RawData/all-geocodes-v2019.csv\"\n",
    "raw_data = pd.read_csv(data_load, header=4,  encoding = 'unicode_escape')\n",
    "raw_data.head()"
   ]
  },
  {
   "cell_type": "code",
   "execution_count": 68,
   "metadata": {},
   "outputs": [
    {
     "output_type": "execute_result",
     "data": {
      "text/plain": "   Summary Level  State Code (FIPS) County Code (FIPS)  \\\n0             10                  0               '000   \n1             40                  1               '000   \n2             50                  1               '001   \n3             50                  1               '003   \n4             50                  1               '005   \n\n  Area Name (including legal/statistical area description)  \n0                                      United States        \n1                                            Alabama        \n2                                     Autauga County        \n3                                     Baldwin County        \n4                                     Barbour County        ",
      "text/html": "<div>\n<style scoped>\n    .dataframe tbody tr th:only-of-type {\n        vertical-align: middle;\n    }\n\n    .dataframe tbody tr th {\n        vertical-align: top;\n    }\n\n    .dataframe thead th {\n        text-align: right;\n    }\n</style>\n<table border=\"1\" class=\"dataframe\">\n  <thead>\n    <tr style=\"text-align: right;\">\n      <th></th>\n      <th>Summary Level</th>\n      <th>State Code (FIPS)</th>\n      <th>County Code (FIPS)</th>\n      <th>Area Name (including legal/statistical area description)</th>\n    </tr>\n  </thead>\n  <tbody>\n    <tr>\n      <th>0</th>\n      <td>10</td>\n      <td>0</td>\n      <td>'000</td>\n      <td>United States</td>\n    </tr>\n    <tr>\n      <th>1</th>\n      <td>40</td>\n      <td>1</td>\n      <td>'000</td>\n      <td>Alabama</td>\n    </tr>\n    <tr>\n      <th>2</th>\n      <td>50</td>\n      <td>1</td>\n      <td>'001</td>\n      <td>Autauga County</td>\n    </tr>\n    <tr>\n      <th>3</th>\n      <td>50</td>\n      <td>1</td>\n      <td>'003</td>\n      <td>Baldwin County</td>\n    </tr>\n    <tr>\n      <th>4</th>\n      <td>50</td>\n      <td>1</td>\n      <td>'005</td>\n      <td>Barbour County</td>\n    </tr>\n  </tbody>\n</table>\n</div>"
     },
     "metadata": {},
     "execution_count": 68
    }
   ],
   "source": [
    "# drop unwanted columns\n",
    "raw_data = pd.DataFrame(raw_data, columns=['Summary Level', 'State Code (FIPS)', 'County Code (FIPS)', 'Area Name (including legal/statistical area description)'])\n",
    "\n",
    "raw_data.head()"
   ]
  },
  {
   "cell_type": "code",
   "execution_count": 69,
   "metadata": {},
   "outputs": [
    {
     "output_type": "execute_result",
     "data": {
      "text/plain": "   Summary Level  State Code (FIPS) County Code (FIPS)  \\\n0             10                  0                000   \n1             40                  1                000   \n2             50                  1                001   \n3             50                  1                003   \n4             50                  1                005   \n\n  Area Name (including legal/statistical area description)  \n0                                      United States        \n1                                            Alabama        \n2                                     Autauga County        \n3                                     Baldwin County        \n4                                     Barbour County        ",
      "text/html": "<div>\n<style scoped>\n    .dataframe tbody tr th:only-of-type {\n        vertical-align: middle;\n    }\n\n    .dataframe tbody tr th {\n        vertical-align: top;\n    }\n\n    .dataframe thead th {\n        text-align: right;\n    }\n</style>\n<table border=\"1\" class=\"dataframe\">\n  <thead>\n    <tr style=\"text-align: right;\">\n      <th></th>\n      <th>Summary Level</th>\n      <th>State Code (FIPS)</th>\n      <th>County Code (FIPS)</th>\n      <th>Area Name (including legal/statistical area description)</th>\n    </tr>\n  </thead>\n  <tbody>\n    <tr>\n      <th>0</th>\n      <td>10</td>\n      <td>0</td>\n      <td>000</td>\n      <td>United States</td>\n    </tr>\n    <tr>\n      <th>1</th>\n      <td>40</td>\n      <td>1</td>\n      <td>000</td>\n      <td>Alabama</td>\n    </tr>\n    <tr>\n      <th>2</th>\n      <td>50</td>\n      <td>1</td>\n      <td>001</td>\n      <td>Autauga County</td>\n    </tr>\n    <tr>\n      <th>3</th>\n      <td>50</td>\n      <td>1</td>\n      <td>003</td>\n      <td>Baldwin County</td>\n    </tr>\n    <tr>\n      <th>4</th>\n      <td>50</td>\n      <td>1</td>\n      <td>005</td>\n      <td>Barbour County</td>\n    </tr>\n  </tbody>\n</table>\n</div>"
     },
     "metadata": {},
     "execution_count": 69
    }
   ],
   "source": [
    "# slicing off ' from county code\n",
    "raw_data['County Code (FIPS)'] = raw_data['County Code (FIPS)'].str[1:]\n",
    "\n",
    "raw_data.head()"
   ]
  },
  {
   "cell_type": "code",
   "execution_count": 70,
   "metadata": {},
   "outputs": [
    {
     "output_type": "execute_result",
     "data": {
      "text/plain": "   Summary Level  State Code (FIPS) County Code (FIPS)  \\\n0             10                  0                000   \n1             40                  1                000   \n2             50                  1                001   \n3             50                  1                003   \n4             50                  1                005   \n\n  Area Name (including legal/statistical area description) combined fips  \n0                                      United States                0000  \n1                                            Alabama                1000  \n2                                     Autauga County                1001  \n3                                     Baldwin County                1003  \n4                                     Barbour County                1005  ",
      "text/html": "<div>\n<style scoped>\n    .dataframe tbody tr th:only-of-type {\n        vertical-align: middle;\n    }\n\n    .dataframe tbody tr th {\n        vertical-align: top;\n    }\n\n    .dataframe thead th {\n        text-align: right;\n    }\n</style>\n<table border=\"1\" class=\"dataframe\">\n  <thead>\n    <tr style=\"text-align: right;\">\n      <th></th>\n      <th>Summary Level</th>\n      <th>State Code (FIPS)</th>\n      <th>County Code (FIPS)</th>\n      <th>Area Name (including legal/statistical area description)</th>\n      <th>combined fips</th>\n    </tr>\n  </thead>\n  <tbody>\n    <tr>\n      <th>0</th>\n      <td>10</td>\n      <td>0</td>\n      <td>000</td>\n      <td>United States</td>\n      <td>0000</td>\n    </tr>\n    <tr>\n      <th>1</th>\n      <td>40</td>\n      <td>1</td>\n      <td>000</td>\n      <td>Alabama</td>\n      <td>1000</td>\n    </tr>\n    <tr>\n      <th>2</th>\n      <td>50</td>\n      <td>1</td>\n      <td>001</td>\n      <td>Autauga County</td>\n      <td>1001</td>\n    </tr>\n    <tr>\n      <th>3</th>\n      <td>50</td>\n      <td>1</td>\n      <td>003</td>\n      <td>Baldwin County</td>\n      <td>1003</td>\n    </tr>\n    <tr>\n      <th>4</th>\n      <td>50</td>\n      <td>1</td>\n      <td>005</td>\n      <td>Barbour County</td>\n      <td>1005</td>\n    </tr>\n  </tbody>\n</table>\n</div>"
     },
     "metadata": {},
     "execution_count": 70
    }
   ],
   "source": [
    "# Concatinate state and county code\n",
    "raw_data['combined fips'] = raw_data['State Code (FIPS)'].map(str) + raw_data['County Code (FIPS)']\n",
    "raw_data.head()"
   ]
  },
  {
   "cell_type": "code",
   "execution_count": null,
   "metadata": {},
   "outputs": [],
   "source": [
    "# Create state table - filter\n"
   ]
  }
 ],
 "metadata": {
  "language_info": {
   "codemirror_mode": {
    "name": "ipython",
    "version": 3
   },
   "file_extension": ".py",
   "mimetype": "text/x-python",
   "name": "python",
   "nbconvert_exporter": "python",
   "pygments_lexer": "ipython3",
   "version": "3.8.5-final"
  },
  "orig_nbformat": 2,
  "kernelspec": {
   "name": "python_defaultSpec_1602950658150",
   "display_name": "Python 3.8.5 64-bit ('PythonData': conda)"
  }
 },
 "nbformat": 4,
 "nbformat_minor": 2
}