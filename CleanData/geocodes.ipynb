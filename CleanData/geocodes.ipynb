{
 "cells": [
  {
   "cell_type": "code",
   "execution_count": 14,
   "metadata": {},
   "outputs": [],
   "source": [
    "# Dependencies\n",
    "import pandas as pd"
   ]
  },
  {
   "cell_type": "code",
   "execution_count": 15,
   "metadata": {},
   "outputs": [
    {
     "output_type": "execute_result",
     "data": {
      "text/plain": "   Summary Level  State Code (FIPS) County Code (FIPS)  \\\n0             10                  0               '000   \n1             40                  1               '000   \n2             50                  1               '001   \n3             50                  1               '003   \n4             50                  1               '005   \n\n   County Subdivision Code (FIPS)  Place Code (FIPS)  \\\n0                               0                  0   \n1                               0                  0   \n2                               0                  0   \n3                               0                  0   \n4                               0                  0   \n\n   Consolidtated City Code (FIPS)  \\\n0                               0   \n1                               0   \n2                               0   \n3                               0   \n4                               0   \n\n  Area Name (including legal/statistical area description)  \n0                                      United States        \n1                                            Alabama        \n2                                     Autauga County        \n3                                     Baldwin County        \n4                                     Barbour County        ",
      "text/html": "<div>\n<style scoped>\n    .dataframe tbody tr th:only-of-type {\n        vertical-align: middle;\n    }\n\n    .dataframe tbody tr th {\n        vertical-align: top;\n    }\n\n    .dataframe thead th {\n        text-align: right;\n    }\n</style>\n<table border=\"1\" class=\"dataframe\">\n  <thead>\n    <tr style=\"text-align: right;\">\n      <th></th>\n      <th>Summary Level</th>\n      <th>State Code (FIPS)</th>\n      <th>County Code (FIPS)</th>\n      <th>County Subdivision Code (FIPS)</th>\n      <th>Place Code (FIPS)</th>\n      <th>Consolidtated City Code (FIPS)</th>\n      <th>Area Name (including legal/statistical area description)</th>\n    </tr>\n  </thead>\n  <tbody>\n    <tr>\n      <th>0</th>\n      <td>10</td>\n      <td>0</td>\n      <td>'000</td>\n      <td>0</td>\n      <td>0</td>\n      <td>0</td>\n      <td>United States</td>\n    </tr>\n    <tr>\n      <th>1</th>\n      <td>40</td>\n      <td>1</td>\n      <td>'000</td>\n      <td>0</td>\n      <td>0</td>\n      <td>0</td>\n      <td>Alabama</td>\n    </tr>\n    <tr>\n      <th>2</th>\n      <td>50</td>\n      <td>1</td>\n      <td>'001</td>\n      <td>0</td>\n      <td>0</td>\n      <td>0</td>\n      <td>Autauga County</td>\n    </tr>\n    <tr>\n      <th>3</th>\n      <td>50</td>\n      <td>1</td>\n      <td>'003</td>\n      <td>0</td>\n      <td>0</td>\n      <td>0</td>\n      <td>Baldwin County</td>\n    </tr>\n    <tr>\n      <th>4</th>\n      <td>50</td>\n      <td>1</td>\n      <td>'005</td>\n      <td>0</td>\n      <td>0</td>\n      <td>0</td>\n      <td>Barbour County</td>\n    </tr>\n  </tbody>\n</table>\n</div>"
     },
     "metadata": {},
     "execution_count": 15
    }
   ],
   "source": [
    "# Load & read in geocodes file\n",
    "data_load = \"../RawData/all-geocodes-v2019.csv\"\n",
    "raw_data = pd.read_csv(data_load, header=4,  encoding = 'unicode_escape')\n",
    "raw_data.head()"
   ]
  },
  {
   "cell_type": "code",
   "execution_count": 16,
   "metadata": {},
   "outputs": [
    {
     "output_type": "execute_result",
     "data": {
      "text/plain": "   Summary Level  State Code (FIPS) County Code (FIPS)  \\\n0             10                  0               '000   \n1             40                  1               '000   \n2             50                  1               '001   \n3             50                  1               '003   \n4             50                  1               '005   \n\n  Area Name (including legal/statistical area description)  \n0                                      United States        \n1                                            Alabama        \n2                                     Autauga County        \n3                                     Baldwin County        \n4                                     Barbour County        ",
      "text/html": "<div>\n<style scoped>\n    .dataframe tbody tr th:only-of-type {\n        vertical-align: middle;\n    }\n\n    .dataframe tbody tr th {\n        vertical-align: top;\n    }\n\n    .dataframe thead th {\n        text-align: right;\n    }\n</style>\n<table border=\"1\" class=\"dataframe\">\n  <thead>\n    <tr style=\"text-align: right;\">\n      <th></th>\n      <th>Summary Level</th>\n      <th>State Code (FIPS)</th>\n      <th>County Code (FIPS)</th>\n      <th>Area Name (including legal/statistical area description)</th>\n    </tr>\n  </thead>\n  <tbody>\n    <tr>\n      <th>0</th>\n      <td>10</td>\n      <td>0</td>\n      <td>'000</td>\n      <td>United States</td>\n    </tr>\n    <tr>\n      <th>1</th>\n      <td>40</td>\n      <td>1</td>\n      <td>'000</td>\n      <td>Alabama</td>\n    </tr>\n    <tr>\n      <th>2</th>\n      <td>50</td>\n      <td>1</td>\n      <td>'001</td>\n      <td>Autauga County</td>\n    </tr>\n    <tr>\n      <th>3</th>\n      <td>50</td>\n      <td>1</td>\n      <td>'003</td>\n      <td>Baldwin County</td>\n    </tr>\n    <tr>\n      <th>4</th>\n      <td>50</td>\n      <td>1</td>\n      <td>'005</td>\n      <td>Barbour County</td>\n    </tr>\n  </tbody>\n</table>\n</div>"
     },
     "metadata": {},
     "execution_count": 16
    }
   ],
   "source": [
    "# drop unwanted columns\n",
    "raw_data = pd.DataFrame(raw_data, columns=['Summary Level', 'State Code (FIPS)', 'County Code (FIPS)', 'Area Name (including legal/statistical area description)'])\n",
    "\n",
    "raw_data.head()"
   ]
  },
  {
   "cell_type": "code",
   "execution_count": 17,
   "metadata": {},
   "outputs": [
    {
     "output_type": "execute_result",
     "data": {
      "text/plain": "   Summary Level  State Code (FIPS) County Code (FIPS)  \\\n0             10                  0                000   \n1             40                  1                000   \n2             50                  1                001   \n3             50                  1                003   \n4             50                  1                005   \n\n  Area Name (including legal/statistical area description)  \n0                                      United States        \n1                                            Alabama        \n2                                     Autauga County        \n3                                     Baldwin County        \n4                                     Barbour County        ",
      "text/html": "<div>\n<style scoped>\n    .dataframe tbody tr th:only-of-type {\n        vertical-align: middle;\n    }\n\n    .dataframe tbody tr th {\n        vertical-align: top;\n    }\n\n    .dataframe thead th {\n        text-align: right;\n    }\n</style>\n<table border=\"1\" class=\"dataframe\">\n  <thead>\n    <tr style=\"text-align: right;\">\n      <th></th>\n      <th>Summary Level</th>\n      <th>State Code (FIPS)</th>\n      <th>County Code (FIPS)</th>\n      <th>Area Name (including legal/statistical area description)</th>\n    </tr>\n  </thead>\n  <tbody>\n    <tr>\n      <th>0</th>\n      <td>10</td>\n      <td>0</td>\n      <td>000</td>\n      <td>United States</td>\n    </tr>\n    <tr>\n      <th>1</th>\n      <td>40</td>\n      <td>1</td>\n      <td>000</td>\n      <td>Alabama</td>\n    </tr>\n    <tr>\n      <th>2</th>\n      <td>50</td>\n      <td>1</td>\n      <td>001</td>\n      <td>Autauga County</td>\n    </tr>\n    <tr>\n      <th>3</th>\n      <td>50</td>\n      <td>1</td>\n      <td>003</td>\n      <td>Baldwin County</td>\n    </tr>\n    <tr>\n      <th>4</th>\n      <td>50</td>\n      <td>1</td>\n      <td>005</td>\n      <td>Barbour County</td>\n    </tr>\n  </tbody>\n</table>\n</div>"
     },
     "metadata": {},
     "execution_count": 17
    }
   ],
   "source": [
    "# slicing off ' from county code\n",
    "raw_data['County Code (FIPS)'] = raw_data['County Code (FIPS)'].str[1:]\n",
    "\n",
    "raw_data.head()"
   ]
  },
  {
   "cell_type": "code",
   "execution_count": 18,
   "metadata": {},
   "outputs": [
    {
     "output_type": "execute_result",
     "data": {
      "text/plain": "   Summary Level  State Code (FIPS) County Code (FIPS)  \\\n0             10                  0                000   \n1             40                  1                000   \n2             50                  1                001   \n3             50                  1                003   \n4             50                  1                005   \n\n  Area Name (including legal/statistical area description) combined fips  \n0                                      United States                0000  \n1                                            Alabama                1000  \n2                                     Autauga County                1001  \n3                                     Baldwin County                1003  \n4                                     Barbour County                1005  ",
      "text/html": "<div>\n<style scoped>\n    .dataframe tbody tr th:only-of-type {\n        vertical-align: middle;\n    }\n\n    .dataframe tbody tr th {\n        vertical-align: top;\n    }\n\n    .dataframe thead th {\n        text-align: right;\n    }\n</style>\n<table border=\"1\" class=\"dataframe\">\n  <thead>\n    <tr style=\"text-align: right;\">\n      <th></th>\n      <th>Summary Level</th>\n      <th>State Code (FIPS)</th>\n      <th>County Code (FIPS)</th>\n      <th>Area Name (including legal/statistical area description)</th>\n      <th>combined fips</th>\n    </tr>\n  </thead>\n  <tbody>\n    <tr>\n      <th>0</th>\n      <td>10</td>\n      <td>0</td>\n      <td>000</td>\n      <td>United States</td>\n      <td>0000</td>\n    </tr>\n    <tr>\n      <th>1</th>\n      <td>40</td>\n      <td>1</td>\n      <td>000</td>\n      <td>Alabama</td>\n      <td>1000</td>\n    </tr>\n    <tr>\n      <th>2</th>\n      <td>50</td>\n      <td>1</td>\n      <td>001</td>\n      <td>Autauga County</td>\n      <td>1001</td>\n    </tr>\n    <tr>\n      <th>3</th>\n      <td>50</td>\n      <td>1</td>\n      <td>003</td>\n      <td>Baldwin County</td>\n      <td>1003</td>\n    </tr>\n    <tr>\n      <th>4</th>\n      <td>50</td>\n      <td>1</td>\n      <td>005</td>\n      <td>Barbour County</td>\n      <td>1005</td>\n    </tr>\n  </tbody>\n</table>\n</div>"
     },
     "metadata": {},
     "execution_count": 18
    }
   ],
   "source": [
    "# Concatinate state and county code\n",
    "raw_data['combined fips'] = raw_data['State Code (FIPS)'].map(str) + raw_data['County Code (FIPS)']\n",
    "raw_data.head()"
   ]
  },
  {
   "cell_type": "code",
   "execution_count": 19,
   "metadata": {},
   "outputs": [],
   "source": [
    "# Create state table - filter for states\n",
    "states = raw_data.loc[raw_data['Summary Level'] == 40]\n",
    "\n",
    "# Select colums wanted in correct order\n",
    "state = pd.DataFrame(states, columns=['combined fips', 'Area Name (including legal/statistical area description)'])\n",
    "\n",
    "# Rename columns\n",
    "state = state.rename(columns={'combined fips':'state_fips', 'Area Name (including legal/statistical area description)': 'state_name'}).set_index('state_fips')\n",
    "\n",
    "# Export state table to csv\n",
    "state.to_csv('state.csv')"
   ]
  },
  {
   "cell_type": "code",
   "execution_count": 20,
   "metadata": {},
   "outputs": [],
   "source": [
    "# Create county table - filter for county\n",
    "county = raw_data.loc[raw_data['Summary Level'] == 50]\n",
    "\n",
    "# Select colums wanted in correct order\n",
    "county = pd.DataFrame(county, columns=['combined fips', 'Area Name (including legal/statistical area description)'])\n",
    "\n",
    "# Rename columns\n",
    "county = county.rename(columns={'combined fips':'county_fips', 'Area Name (including legal/statistical area description)': 'county_name'}).set_index('county_fips')\n",
    "\n",
    "# Export state table to csv\n",
    "county.to_csv('county.csv')"
   ]
  },
  {
   "cell_type": "code",
   "execution_count": 21,
   "metadata": {},
   "outputs": [
    {
     "output_type": "execute_result",
     "data": {
      "text/plain": "   Summary Level  State Code (FIPS) County Code (FIPS)  \\\n0             10                  0                000   \n1             40                  1                000   \n2             50                  1                001   \n3             50                  1                003   \n4             50                  1                005   \n\n  Area Name (including legal/statistical area description) combined fips  \\\n0                                      United States                0000   \n1                                            Alabama                1000   \n2                                     Autauga County                1001   \n3                                     Baldwin County                1003   \n4                                     Barbour County                1005   \n\n  state_fips  \n0       0000  \n1       1000  \n2       1000  \n3       1000  \n4       1000  ",
      "text/html": "<div>\n<style scoped>\n    .dataframe tbody tr th:only-of-type {\n        vertical-align: middle;\n    }\n\n    .dataframe tbody tr th {\n        vertical-align: top;\n    }\n\n    .dataframe thead th {\n        text-align: right;\n    }\n</style>\n<table border=\"1\" class=\"dataframe\">\n  <thead>\n    <tr style=\"text-align: right;\">\n      <th></th>\n      <th>Summary Level</th>\n      <th>State Code (FIPS)</th>\n      <th>County Code (FIPS)</th>\n      <th>Area Name (including legal/statistical area description)</th>\n      <th>combined fips</th>\n      <th>state_fips</th>\n    </tr>\n  </thead>\n  <tbody>\n    <tr>\n      <th>0</th>\n      <td>10</td>\n      <td>0</td>\n      <td>000</td>\n      <td>United States</td>\n      <td>0000</td>\n      <td>0000</td>\n    </tr>\n    <tr>\n      <th>1</th>\n      <td>40</td>\n      <td>1</td>\n      <td>000</td>\n      <td>Alabama</td>\n      <td>1000</td>\n      <td>1000</td>\n    </tr>\n    <tr>\n      <th>2</th>\n      <td>50</td>\n      <td>1</td>\n      <td>001</td>\n      <td>Autauga County</td>\n      <td>1001</td>\n      <td>1000</td>\n    </tr>\n    <tr>\n      <th>3</th>\n      <td>50</td>\n      <td>1</td>\n      <td>003</td>\n      <td>Baldwin County</td>\n      <td>1003</td>\n      <td>1000</td>\n    </tr>\n    <tr>\n      <th>4</th>\n      <td>50</td>\n      <td>1</td>\n      <td>005</td>\n      <td>Barbour County</td>\n      <td>1005</td>\n      <td>1000</td>\n    </tr>\n  </tbody>\n</table>\n</div>"
     },
     "metadata": {},
     "execution_count": 21
    }
   ],
   "source": [
    "# Create a state_fip in raw data\n",
    "raw_data['state_fips'] = raw_data['State Code (FIPS)'].map(str) + '000'\n",
    "raw_data.head()"
   ]
  },
  {
   "cell_type": "code",
   "execution_count": 22,
   "metadata": {},
   "outputs": [],
   "source": [
    "# filter on 50 to create county_state table\n",
    "county_state_fips = raw_data.loc[raw_data['Summary Level'] == 50]\n",
    "county_state = pd.DataFrame(county_state_fips, columns=['combined fips', 'state_fips'])\n",
    "\n",
    "# rename and index columns\n",
    "county_state = county_state.rename(columns={'combined fips':'county_fips'}).set_index('county_fips')\n",
    "\n",
    "# save county state to csv\n",
    "county_state.to_csv('county_state.csv')"
   ]
  },
  {
   "cell_type": "markdown",
   "metadata": {
    "tags": []
   },
   "source": [
    "# Dataframe to postgres"
   ]
  },
  {
   "cell_type": "code",
   "execution_count": 23,
   "metadata": {},
   "outputs": [],
   "source": [
    "# import dependencies\n",
    "from sqlalchemy import create_engine\n",
    "import psycopg2\n",
    "import pandas as pd\n",
    "from passwords import password"
   ]
  },
  {
   "cell_type": "markdown",
   "metadata": {},
   "source": [
    "## County table"
   ]
  },
  {
   "cell_type": "code",
   "execution_count": 24,
   "metadata": {
    "tags": []
   },
   "outputs": [
    {
     "output_type": "stream",
     "name": "stdout",
     "text": "Table 'county' already exists.\n"
    }
   ],
   "source": [
    "# Create an engine instance\n",
    "alchemyEngine   = create_engine('postgresql+psycopg2://postgres:' + password + '@cwru-bootcamp6.cbgqvzvry5u3.us-east-2.rds.amazonaws.com/postgres', pool_recycle=3600)\n",
    "\n",
    "# Connect to PostgreSQL server\n",
    "postgreSQLConnection = alchemyEngine.connect()\n",
    "postgreSQLTable = \"county\"\n",
    "\n",
    "try:\n",
    "\n",
    "    frame = county.to_sql(postgreSQLTable, postgreSQLConnection, if_exists='fail')\n",
    "\n",
    "except ValueError as vx:\n",
    "\n",
    "    print(vx)\n",
    "\n",
    "except Exception as ex:  \n",
    "\n",
    "    print(ex)\n",
    "\n",
    "else:\n",
    "\n",
    "    print(\"PostgreSQL Table %s has been created successfully.\"%postgreSQLTable)\n",
    "\n",
    "finally:\n",
    "\n",
    "    postgreSQLConnection.close()"
   ]
  },
  {
   "cell_type": "markdown",
   "metadata": {},
   "source": [
    "## State table"
   ]
  },
  {
   "cell_type": "code",
   "execution_count": 25,
   "metadata": {
    "tags": []
   },
   "outputs": [
    {
     "output_type": "stream",
     "name": "stdout",
     "text": "Table 'state' already exists.\n"
    }
   ],
   "source": [
    "# Create an engine instance\n",
    "alchemyEngine   = create_engine('postgresql+psycopg2://postgres:' + password + '@cwru-bootcamp6.cbgqvzvry5u3.us-east-2.rds.amazonaws.com/postgres', pool_recycle=3600)\n",
    "\n",
    "# Connect to PostgreSQL server\n",
    "postgreSQLConnection = alchemyEngine.connect()\n",
    "postgreSQLTable = \"state\"\n",
    "\n",
    "try:\n",
    "\n",
    "    frame = state.to_sql(postgreSQLTable, postgreSQLConnection, if_exists='fail')\n",
    "\n",
    "except ValueError as vx:\n",
    "\n",
    "    print(vx)\n",
    "\n",
    "except Exception as ex:  \n",
    "\n",
    "    print(ex)\n",
    "\n",
    "else:\n",
    "\n",
    "    print(\"PostgreSQL Table %s has been created successfully.\"%postgreSQLTable)\n",
    "\n",
    "finally:\n",
    "\n",
    "    postgreSQLConnection.close()"
   ]
  },
  {
   "cell_type": "markdown",
   "metadata": {},
   "source": [
    "## County_state table"
   ]
  },
  {
   "cell_type": "code",
   "execution_count": 26,
   "metadata": {
    "tags": []
   },
   "outputs": [
    {
     "output_type": "stream",
     "name": "stdout",
     "text": "Table 'county_state' already exists.\n"
    }
   ],
   "source": [
    "# Create an engine instance\n",
    "alchemyEngine   = create_engine('postgresql+psycopg2://postgres:' + password + '@cwru-bootcamp6.cbgqvzvry5u3.us-east-2.rds.amazonaws.com/postgres', pool_recycle=3600)\n",
    "\n",
    "# Connect to PostgreSQL server\n",
    "postgreSQLConnection = alchemyEngine.connect()\n",
    "postgreSQLTable = \"county_state\"\n",
    "\n",
    "try:\n",
    "\n",
    "    frame = county_state.to_sql(postgreSQLTable, postgreSQLConnection, if_exists='fail')\n",
    "\n",
    "except ValueError as vx:\n",
    "\n",
    "    print(vx)\n",
    "\n",
    "except Exception as ex:  \n",
    "\n",
    "    print(ex)\n",
    "\n",
    "else:\n",
    "\n",
    "    print(\"PostgreSQL Table %s has been created successfully.\"%postgreSQLTable)\n",
    "\n",
    "finally:\n",
    "\n",
    "    postgreSQLConnection.close()"
   ]
  }
 ],
 "metadata": {
  "language_info": {
   "codemirror_mode": {
    "name": "ipython",
    "version": 3
   },
   "file_extension": ".py",
   "mimetype": "text/x-python",
   "name": "python",
   "nbconvert_exporter": "python",
   "pygments_lexer": "ipython3",
   "version": "3.8.5-final"
  },
  "orig_nbformat": 2,
  "kernelspec": {
   "name": "python_defaultSpec_1603299502513",
   "display_name": "Python 3.8.5 64-bit ('PythonData': conda)"
  }
 },
 "nbformat": 4,
 "nbformat_minor": 2
}