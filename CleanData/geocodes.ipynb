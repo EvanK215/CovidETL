{
 "cells": [
  {
   "cell_type": "code",
   "execution_count": 24,
   "metadata": {},
   "outputs": [],
   "source": [
    "# Dependencies\n",
    "import pandas as pd"
   ]
  },
  {
   "cell_type": "code",
   "execution_count": 25,
   "metadata": {},
   "outputs": [
    {
     "output_type": "execute_result",
     "data": {
      "text/plain": "   Summary Level  State Code (FIPS) County Code (FIPS)  \\\n0             10                  0               '000   \n1             40                  1               '000   \n2             50                  1               '001   \n3             50                  1               '003   \n4             50                  1               '005   \n\n   County Subdivision Code (FIPS)  Place Code (FIPS)  \\\n0                               0                  0   \n1                               0                  0   \n2                               0                  0   \n3                               0                  0   \n4                               0                  0   \n\n   Consolidtated City Code (FIPS)  \\\n0                               0   \n1                               0   \n2                               0   \n3                               0   \n4                               0   \n\n  Area Name (including legal/statistical area description)  \n0                                      United States        \n1                                            Alabama        \n2                                     Autauga County        \n3                                     Baldwin County        \n4                                     Barbour County        ",
      "text/html": "<div>\n<style scoped>\n    .dataframe tbody tr th:only-of-type {\n        vertical-align: middle;\n    }\n\n    .dataframe tbody tr th {\n        vertical-align: top;\n    }\n\n    .dataframe thead th {\n        text-align: right;\n    }\n</style>\n<table border=\"1\" class=\"dataframe\">\n  <thead>\n    <tr style=\"text-align: right;\">\n      <th></th>\n      <th>Summary Level</th>\n      <th>State Code (FIPS)</th>\n      <th>County Code (FIPS)</th>\n      <th>County Subdivision Code (FIPS)</th>\n      <th>Place Code (FIPS)</th>\n      <th>Consolidtated City Code (FIPS)</th>\n      <th>Area Name (including legal/statistical area description)</th>\n    </tr>\n  </thead>\n  <tbody>\n    <tr>\n      <th>0</th>\n      <td>10</td>\n      <td>0</td>\n      <td>'000</td>\n      <td>0</td>\n      <td>0</td>\n      <td>0</td>\n      <td>United States</td>\n    </tr>\n    <tr>\n      <th>1</th>\n      <td>40</td>\n      <td>1</td>\n      <td>'000</td>\n      <td>0</td>\n      <td>0</td>\n      <td>0</td>\n      <td>Alabama</td>\n    </tr>\n    <tr>\n      <th>2</th>\n      <td>50</td>\n      <td>1</td>\n      <td>'001</td>\n      <td>0</td>\n      <td>0</td>\n      <td>0</td>\n      <td>Autauga County</td>\n    </tr>\n    <tr>\n      <th>3</th>\n      <td>50</td>\n      <td>1</td>\n      <td>'003</td>\n      <td>0</td>\n      <td>0</td>\n      <td>0</td>\n      <td>Baldwin County</td>\n    </tr>\n    <tr>\n      <th>4</th>\n      <td>50</td>\n      <td>1</td>\n      <td>'005</td>\n      <td>0</td>\n      <td>0</td>\n      <td>0</td>\n      <td>Barbour County</td>\n    </tr>\n  </tbody>\n</table>\n</div>"
     },
     "metadata": {},
     "execution_count": 25
    }
   ],
   "source": [
    "# Load & read in geocodes file\n",
    "data_load = \"../RawData/all-geocodes-v2019.csv\"\n",
    "raw_data = pd.read_csv(data_load, header=4,  encoding = 'unicode_escape')\n",
    "raw_data.head()"
   ]
  },
  {
   "cell_type": "code",
   "execution_count": 26,
   "metadata": {},
   "outputs": [
    {
     "output_type": "execute_result",
     "data": {
      "text/plain": "   Summary Level  State Code (FIPS) County Code (FIPS)  \\\n0             10                  0               '000   \n1             40                  1               '000   \n2             50                  1               '001   \n3             50                  1               '003   \n4             50                  1               '005   \n\n  Area Name (including legal/statistical area description)  \n0                                      United States        \n1                                            Alabama        \n2                                     Autauga County        \n3                                     Baldwin County        \n4                                     Barbour County        ",
      "text/html": "<div>\n<style scoped>\n    .dataframe tbody tr th:only-of-type {\n        vertical-align: middle;\n    }\n\n    .dataframe tbody tr th {\n        vertical-align: top;\n    }\n\n    .dataframe thead th {\n        text-align: right;\n    }\n</style>\n<table border=\"1\" class=\"dataframe\">\n  <thead>\n    <tr style=\"text-align: right;\">\n      <th></th>\n      <th>Summary Level</th>\n      <th>State Code (FIPS)</th>\n      <th>County Code (FIPS)</th>\n      <th>Area Name (including legal/statistical area description)</th>\n    </tr>\n  </thead>\n  <tbody>\n    <tr>\n      <th>0</th>\n      <td>10</td>\n      <td>0</td>\n      <td>'000</td>\n      <td>United States</td>\n    </tr>\n    <tr>\n      <th>1</th>\n      <td>40</td>\n      <td>1</td>\n      <td>'000</td>\n      <td>Alabama</td>\n    </tr>\n    <tr>\n      <th>2</th>\n      <td>50</td>\n      <td>1</td>\n      <td>'001</td>\n      <td>Autauga County</td>\n    </tr>\n    <tr>\n      <th>3</th>\n      <td>50</td>\n      <td>1</td>\n      <td>'003</td>\n      <td>Baldwin County</td>\n    </tr>\n    <tr>\n      <th>4</th>\n      <td>50</td>\n      <td>1</td>\n      <td>'005</td>\n      <td>Barbour County</td>\n    </tr>\n  </tbody>\n</table>\n</div>"
     },
     "metadata": {},
     "execution_count": 26
    }
   ],
   "source": [
    "# drop unwanted columns\n",
    "raw_data = pd.DataFrame(raw_data, columns=['Summary Level', 'State Code (FIPS)', 'County Code (FIPS)', 'Area Name (including legal/statistical area description)'])\n",
    "\n",
    "raw_data.head()"
   ]
  },
  {
   "cell_type": "code",
   "execution_count": 27,
   "metadata": {},
   "outputs": [
    {
     "output_type": "execute_result",
     "data": {
      "text/plain": "   Summary Level  State Code (FIPS) County Code (FIPS)  \\\n0             10                  0                000   \n1             40                  1                000   \n2             50                  1                001   \n3             50                  1                003   \n4             50                  1                005   \n\n  Area Name (including legal/statistical area description)  \n0                                      United States        \n1                                            Alabama        \n2                                     Autauga County        \n3                                     Baldwin County        \n4                                     Barbour County        ",
      "text/html": "<div>\n<style scoped>\n    .dataframe tbody tr th:only-of-type {\n        vertical-align: middle;\n    }\n\n    .dataframe tbody tr th {\n        vertical-align: top;\n    }\n\n    .dataframe thead th {\n        text-align: right;\n    }\n</style>\n<table border=\"1\" class=\"dataframe\">\n  <thead>\n    <tr style=\"text-align: right;\">\n      <th></th>\n      <th>Summary Level</th>\n      <th>State Code (FIPS)</th>\n      <th>County Code (FIPS)</th>\n      <th>Area Name (including legal/statistical area description)</th>\n    </tr>\n  </thead>\n  <tbody>\n    <tr>\n      <th>0</th>\n      <td>10</td>\n      <td>0</td>\n      <td>000</td>\n      <td>United States</td>\n    </tr>\n    <tr>\n      <th>1</th>\n      <td>40</td>\n      <td>1</td>\n      <td>000</td>\n      <td>Alabama</td>\n    </tr>\n    <tr>\n      <th>2</th>\n      <td>50</td>\n      <td>1</td>\n      <td>001</td>\n      <td>Autauga County</td>\n    </tr>\n    <tr>\n      <th>3</th>\n      <td>50</td>\n      <td>1</td>\n      <td>003</td>\n      <td>Baldwin County</td>\n    </tr>\n    <tr>\n      <th>4</th>\n      <td>50</td>\n      <td>1</td>\n      <td>005</td>\n      <td>Barbour County</td>\n    </tr>\n  </tbody>\n</table>\n</div>"
     },
     "metadata": {},
     "execution_count": 27
    }
   ],
   "source": [
    "# slicing off ' from county code\n",
    "raw_data['County Code (FIPS)'] = raw_data['County Code (FIPS)'].str[1:]\n",
    "\n",
    "raw_data.head()"
   ]
  },
  {
   "cell_type": "code",
   "execution_count": 28,
   "metadata": {},
   "outputs": [
    {
     "output_type": "execute_result",
     "data": {
      "text/plain": "   Summary Level  State Code (FIPS) County Code (FIPS)  \\\n0             10                  0                000   \n1             40                  1                000   \n2             50                  1                001   \n3             50                  1                003   \n4             50                  1                005   \n\n  Area Name (including legal/statistical area description) combined fips  \n0                                      United States                0000  \n1                                            Alabama                1000  \n2                                     Autauga County                1001  \n3                                     Baldwin County                1003  \n4                                     Barbour County                1005  ",
      "text/html": "<div>\n<style scoped>\n    .dataframe tbody tr th:only-of-type {\n        vertical-align: middle;\n    }\n\n    .dataframe tbody tr th {\n        vertical-align: top;\n    }\n\n    .dataframe thead th {\n        text-align: right;\n    }\n</style>\n<table border=\"1\" class=\"dataframe\">\n  <thead>\n    <tr style=\"text-align: right;\">\n      <th></th>\n      <th>Summary Level</th>\n      <th>State Code (FIPS)</th>\n      <th>County Code (FIPS)</th>\n      <th>Area Name (including legal/statistical area description)</th>\n      <th>combined fips</th>\n    </tr>\n  </thead>\n  <tbody>\n    <tr>\n      <th>0</th>\n      <td>10</td>\n      <td>0</td>\n      <td>000</td>\n      <td>United States</td>\n      <td>0000</td>\n    </tr>\n    <tr>\n      <th>1</th>\n      <td>40</td>\n      <td>1</td>\n      <td>000</td>\n      <td>Alabama</td>\n      <td>1000</td>\n    </tr>\n    <tr>\n      <th>2</th>\n      <td>50</td>\n      <td>1</td>\n      <td>001</td>\n      <td>Autauga County</td>\n      <td>1001</td>\n    </tr>\n    <tr>\n      <th>3</th>\n      <td>50</td>\n      <td>1</td>\n      <td>003</td>\n      <td>Baldwin County</td>\n      <td>1003</td>\n    </tr>\n    <tr>\n      <th>4</th>\n      <td>50</td>\n      <td>1</td>\n      <td>005</td>\n      <td>Barbour County</td>\n      <td>1005</td>\n    </tr>\n  </tbody>\n</table>\n</div>"
     },
     "metadata": {},
     "execution_count": 28
    }
   ],
   "source": [
    "# Concatinate state and county code\n",
    "raw_data['combined fips'] = raw_data['State Code (FIPS)'].map(str) + raw_data['County Code (FIPS)']\n",
    "raw_data.head()"
   ]
  },
  {
   "cell_type": "code",
   "execution_count": 29,
   "metadata": {},
   "outputs": [],
   "source": [
    "# Create state table - filter for states\n",
    "states = raw_data.loc[raw_data['Summary Level'] == 40]\n",
    "\n",
    "# Select colums wanted in correct order\n",
    "state = pd.DataFrame(states, columns=['combined fips', 'Area Name (including legal/statistical area description)'])\n",
    "\n",
    "# Rename columns\n",
    "state = state.rename(columns={'combined fips':'state_fips', 'Area Name (including legal/statistical area description)': 'state_name'}).set_index('state_fips')\n",
    "\n",
    "# Export state table to csv\n",
    "state.to_csv('state.csv')"
   ]
  },
  {
   "cell_type": "code",
   "execution_count": 30,
   "metadata": {},
   "outputs": [],
   "source": [
    "# Create county table - filter for county\n",
    "county = raw_data.loc[raw_data['Summary Level'] == 50]\n",
    "\n",
    "# Select colums wanted in correct order\n",
    "county = pd.DataFrame(county, columns=['combined fips', 'Area Name (including legal/statistical area description)'])\n",
    "\n",
    "# Rename columns\n",
    "county = county.rename(columns={'combined fips':'county_fips', 'Area Name (including legal/statistical area description)': 'county_name'}).set_index('county_fips')\n",
    "\n",
    "# Export state table to csv\n",
    "county.to_csv('county.csv')"
   ]
  },
  {
   "cell_type": "code",
   "execution_count": 31,
   "metadata": {},
   "outputs": [
    {
     "output_type": "execute_result",
     "data": {
      "text/plain": "   Summary Level  State Code (FIPS) County Code (FIPS)  \\\n0             10                  0                000   \n1             40                  1                000   \n2             50                  1                001   \n3             50                  1                003   \n4             50                  1                005   \n\n  Area Name (including legal/statistical area description) combined fips  \\\n0                                      United States                0000   \n1                                            Alabama                1000   \n2                                     Autauga County                1001   \n3                                     Baldwin County                1003   \n4                                     Barbour County                1005   \n\n  state_fips  \n0       0000  \n1       1000  \n2       1000  \n3       1000  \n4       1000  ",
      "text/html": "<div>\n<style scoped>\n    .dataframe tbody tr th:only-of-type {\n        vertical-align: middle;\n    }\n\n    .dataframe tbody tr th {\n        vertical-align: top;\n    }\n\n    .dataframe thead th {\n        text-align: right;\n    }\n</style>\n<table border=\"1\" class=\"dataframe\">\n  <thead>\n    <tr style=\"text-align: right;\">\n      <th></th>\n      <th>Summary Level</th>\n      <th>State Code (FIPS)</th>\n      <th>County Code (FIPS)</th>\n      <th>Area Name (including legal/statistical area description)</th>\n      <th>combined fips</th>\n      <th>state_fips</th>\n    </tr>\n  </thead>\n  <tbody>\n    <tr>\n      <th>0</th>\n      <td>10</td>\n      <td>0</td>\n      <td>000</td>\n      <td>United States</td>\n      <td>0000</td>\n      <td>0000</td>\n    </tr>\n    <tr>\n      <th>1</th>\n      <td>40</td>\n      <td>1</td>\n      <td>000</td>\n      <td>Alabama</td>\n      <td>1000</td>\n      <td>1000</td>\n    </tr>\n    <tr>\n      <th>2</th>\n      <td>50</td>\n      <td>1</td>\n      <td>001</td>\n      <td>Autauga County</td>\n      <td>1001</td>\n      <td>1000</td>\n    </tr>\n    <tr>\n      <th>3</th>\n      <td>50</td>\n      <td>1</td>\n      <td>003</td>\n      <td>Baldwin County</td>\n      <td>1003</td>\n      <td>1000</td>\n    </tr>\n    <tr>\n      <th>4</th>\n      <td>50</td>\n      <td>1</td>\n      <td>005</td>\n      <td>Barbour County</td>\n      <td>1005</td>\n      <td>1000</td>\n    </tr>\n  </tbody>\n</table>\n</div>"
     },
     "metadata": {},
     "execution_count": 31
    }
   ],
   "source": [
    "# Create a state_fip in raw data\n",
    "raw_data['state_fips'] = raw_data['State Code (FIPS)'].map(str) + '000'\n",
    "raw_data.head()"
   ]
  },
  {
   "cell_type": "code",
   "execution_count": 42,
   "metadata": {},
   "outputs": [],
   "source": [
    "# filter on 50 to create county_state table\n",
    "county_state_fips = raw_data.loc[raw_data['Summary Level'] == 50]\n",
    "county_state = pd.DataFrame(county_state_fips, columns=['combined fips', 'state_fips'])\n",
    "\n",
    "# rename and index columns\n",
    "county_state = county_state.rename(columns={'combined fips':'county_fips'}).set_index('county_fips')\n",
    "\n",
    "# save county state to csv\n",
    "county_state.to_csv('county_state.csv')"
   ]
  },
  {
   "cell_type": "code",
   "execution_count": null,
   "metadata": {},
   "outputs": [],
   "source": []
  }
 ],
 "metadata": {
  "language_info": {
   "codemirror_mode": {
    "name": "ipython",
    "version": 3
   },
   "file_extension": ".py",
   "mimetype": "text/x-python",
   "name": "python",
   "nbconvert_exporter": "python",
   "pygments_lexer": "ipython3",
   "version": "3.8.5-final"
  },
  "orig_nbformat": 2,
  "kernelspec": {
   "name": "python_defaultSpec_1602952627616",
   "display_name": "Python 3.8.5 64-bit ('PythonData': conda)"
  }
 },
 "nbformat": 4,
 "nbformat_minor": 2
}